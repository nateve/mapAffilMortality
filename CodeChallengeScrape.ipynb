{
 "cells": [
  {
   "cell_type": "code",
   "execution_count": 1,
   "metadata": {
    "collapsed": true
   },
   "outputs": [],
   "source": [
    "import numpy as np\n",
    "import requests"
   ]
  },
  {
   "cell_type": "code",
   "execution_count": 10,
   "metadata": {
    "collapsed": false
   },
   "outputs": [],
   "source": [
    "url = \"http://shakespeare.mit.edu/lll/full.html\"\n",
    "page = requests.get(url)\n",
    "# print(page.text)"
   ]
  },
  {
   "cell_type": "code",
   "execution_count": 42,
   "metadata": {
    "collapsed": false
   },
   "outputs": [],
   "source": [
    "import re\n",
    "from bs4 import BeautifulSoup\n",
    "soup = BeautifulSoup(page.text, \"html.parser\")\n",
    "text = soup.get_text()\n",
    "lines = text.lower().split('\\n')\n",
    "\n",
    "# stop_ctr = 0\n",
    "\n",
    "word_set = set()\n",
    "\n",
    "still_intro = True\n",
    "for line in lines:\n",
    "    if still_intro:\n",
    "        if line.startswith(\"act i\"):\n",
    "            still_intro = False\n",
    "        else:\n",
    "            continue\n",
    "    line = re.sub(r'[^\\w\\s]','',line)\n",
    "    words = line.split()\n",
    "    if len(words) > 0:\n",
    "        for i in words:\n",
    "            word_set.add(i)\n",
    "    stop_ctr += 1    \n",
    "#     if stop_ctr > 50:\n",
    "#          break\n"
   ]
  },
  {
   "cell_type": "code",
   "execution_count": 43,
   "metadata": {
    "collapsed": false
   },
   "outputs": [],
   "source": [
    "word_list = list(word_set)"
   ]
  },
  {
   "cell_type": "code",
   "execution_count": 44,
   "metadata": {
    "collapsed": false
   },
   "outputs": [
    {
     "data": {
      "text/plain": [
       "3790"
      ]
     },
     "execution_count": 44,
     "metadata": {},
     "output_type": "execute_result"
    }
   ],
   "source": [
    "len(word_list)"
   ]
  },
  {
   "cell_type": "code",
   "execution_count": null,
   "metadata": {
    "collapsed": true
   },
   "outputs": [],
   "source": []
  },
  {
   "cell_type": "code",
   "execution_count": 3,
   "metadata": {
    "collapsed": true
   },
   "outputs": [],
   "source": [
    "words = ['fortran', 'stuff', 'python']"
   ]
  },
  {
   "cell_type": "code",
   "execution_count": 2,
   "metadata": {
    "collapsed": true
   },
   "outputs": [],
   "source": [
    "grid = np.array([['Q', 'W', 'E', 'R', 'T', 'N', 'U', 'I'], \\\n",
    "                ['O', 'P', 'A', 'A', 'D', 'F', 'G', 'H'], \\\n",
    "                ['T', 'K', 'L', 'Z', 'X', 'C', 'V', 'B'], \\\n",
    "                ['N', 'M', 'R', 'W', 'F', 'R', 'T', 'Y'], \\\n",
    "                ['U', 'I', 'O', 'P', 'A', 'S', 'D', 'F'], \\\n",
    "                ['G', 'H', 'J', 'O', 'L', 'Z', 'X', 'C'], \\\n",
    "                ['V', 'B', 'N', 'M', 'Q', 'W', 'E', 'R'], \\\n",
    "                ['T', 'Y', 'U', 'I', 'O', 'P', 'A', 'S']])"
   ]
  },
  {
   "cell_type": "code",
   "execution_count": 4,
   "metadata": {
    "collapsed": false
   },
   "outputs": [
    {
     "data": {
      "text/plain": [
       "array([[1, 5],\n",
       "       [3, 4],\n",
       "       [4, 7]])"
      ]
     },
     "execution_count": 4,
     "metadata": {},
     "output_type": "execute_result"
    }
   ],
   "source": [
    "np.transpose((grid=='F').nonzero())"
   ]
  },
  {
   "cell_type": "code",
   "execution_count": 6,
   "metadata": {
    "collapsed": false
   },
   "outputs": [
    {
     "data": {
      "text/plain": [
       "True"
      ]
     },
     "execution_count": 6,
     "metadata": {},
     "output_type": "execute_result"
    }
   ],
   "source": [
    "grid == 'f'"
   ]
  },
  {
   "cell_type": "code",
   "execution_count": null,
   "metadata": {
    "collapsed": true
   },
   "outputs": [],
   "source": [
    "rows_list = ['']\n",
    "for row in input_rows:\n",
    "\n",
    "        dict1 = {}\n",
    "        # get input row in dictionary format\n",
    "        # key = col_name\n",
    "        dict1.update(blah..) \n",
    "\n",
    "        rows_list.append(dict1)\n",
    "\n",
    "df = pd.DataFrame(rows_list)   "
   ]
  }
 ],
 "metadata": {
  "anaconda-cloud": {},
  "kernelspec": {
   "display_name": "Python [conda root]",
   "language": "python",
   "name": "conda-root-py"
  },
  "language_info": {
   "codemirror_mode": {
    "name": "ipython",
    "version": 3
   },
   "file_extension": ".py",
   "mimetype": "text/x-python",
   "name": "python",
   "nbconvert_exporter": "python",
   "pygments_lexer": "ipython3",
   "version": "3.5.2"
  }
 },
 "nbformat": 4,
 "nbformat_minor": 1
}
