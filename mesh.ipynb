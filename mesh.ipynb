{
 "cells": [
  {
   "cell_type": "code",
   "execution_count": 5,
   "metadata": {
    "collapsed": true,
    "scrolled": true
   },
   "outputs": [],
   "source": [
    "%matplotlib inline\n",
    "import pandas as pd\n",
    "import numpy as np\n",
    "from IPython.display import display\n",
    "import matplotlib.pyplot as plt\n",
    "plt.style.use('ggplot')"
   ]
  },
  {
   "cell_type": "code",
   "execution_count": null,
   "metadata": {
    "collapsed": true,
    "scrolled": true
   },
   "outputs": [],
   "source": [
    "mort_pubs = pd.read_table('./data/mort_pubs.tsv', sep='\\t', encoding='latin-1',\n",
    "                         dtype={'fips': object})\n",
    "\n",
    "# drop first column\n",
    "mort_pubs = mort_pubs.drop(['Unnamed: 0'], 1)"
   ]
  },
  {
   "cell_type": "code",
   "execution_count": 6,
   "metadata": {
    "collapsed": true,
    "scrolled": true
   },
   "outputs": [],
   "source": [
    "iter_csv = pd.read_table('./data/mapAffil_2016_nonull.tsv', sep='\\t', encoding='latin-1',\n",
    "                         dtype={'PMID': object, \n",
    "                                'au_order': np.int64, \n",
    "                                'year': np.int64,\n",
    "                                'type': object, \n",
    "                                'city': object, \n",
    "                                'state':object, \n",
    "                                'country': object,\n",
    "                                'lat': np.float64, \n",
    "                                'lon': np.float64, \n",
    "                                'fips': object},\n",
    "                         iterator=True, chunksize=10**6)\n",
    "\n",
    "mapAffil = pd.concat([chunk[pd.notnull(chunk['fips'])] for chunk in iter_csv])\n",
    "mapAffil = mapAffil.drop(['Unnamed: 0'], 1)"
   ]
  },
  {
   "cell_type": "markdown",
   "metadata": {},
   "source": [
    "### Import mesh data"
   ]
  },
  {
   "cell_type": "code",
   "execution_count": 7,
   "metadata": {
    "collapsed": true,
    "scrolled": true
   },
   "outputs": [],
   "source": [
    "iter_csv = pd.read_table('./data/MeSH2016.tsv', sep='\\t', encoding='latin-1',\n",
    "                        dtype={'PMID': object},\n",
    "                        iterator=True, chunksize=10**6)\n",
    "mesh = pd.concat([chunk for chunk in iter_csv])"
   ]
  },
  {
   "cell_type": "code",
   "execution_count": 82,
   "metadata": {
    "collapsed": false,
    "scrolled": false
   },
   "outputs": [
    {
     "data": {
      "text/plain": [
       "23354735"
      ]
     },
     "execution_count": 82,
     "metadata": {},
     "output_type": "execute_result"
    }
   ],
   "source": [
    "len(mesh)"
   ]
  },
  {
   "cell_type": "code",
   "execution_count": null,
   "metadata": {
    "collapsed": true
   },
   "outputs": [],
   "source": [
    "len(mesh.PMID.unique())"
   ]
  },
  {
   "cell_type": "code",
   "execution_count": 9,
   "metadata": {
    "collapsed": false,
    "scrolled": false
   },
   "outputs": [
    {
     "data": {
      "text/plain": [
       "12191076"
      ]
     },
     "execution_count": 9,
     "metadata": {},
     "output_type": "execute_result"
    }
   ],
   "source": [
    "len(mapAffil)"
   ]
  },
  {
   "cell_type": "code",
   "execution_count": 10,
   "metadata": {
    "collapsed": false
   },
   "outputs": [
    {
     "data": {
      "text/html": [
       "<div>\n",
       "<table border=\"1\" class=\"dataframe\">\n",
       "  <thead>\n",
       "    <tr style=\"text-align: right;\">\n",
       "      <th></th>\n",
       "      <th>PMID</th>\n",
       "      <th>mesh</th>\n",
       "    </tr>\n",
       "  </thead>\n",
       "  <tbody>\n",
       "    <tr>\n",
       "      <th>0</th>\n",
       "      <td>26151948</td>\n",
       "      <td>Algorithms|Data Mining|Databases, Factual|Gene...</td>\n",
       "    </tr>\n",
       "    <tr>\n",
       "      <th>1</th>\n",
       "      <td>26151946</td>\n",
       "      <td>Adult|Aged|Aged, 80 and over|Decision Making|F...</td>\n",
       "    </tr>\n",
       "    <tr>\n",
       "      <th>2</th>\n",
       "      <td>26151944</td>\n",
       "      <td>Animals|Biomimetic Materials|Biomimetics|Equip...</td>\n",
       "    </tr>\n",
       "    <tr>\n",
       "      <th>3</th>\n",
       "      <td>26151942</td>\n",
       "      <td>Amino Acids|Anti-Bacterial Agents|Escherichia ...</td>\n",
       "    </tr>\n",
       "    <tr>\n",
       "      <th>4</th>\n",
       "      <td>26151941</td>\n",
       "      <td>Action Potentials|Electronics|Humans|Models, N...</td>\n",
       "    </tr>\n",
       "  </tbody>\n",
       "</table>\n",
       "</div>"
      ],
      "text/plain": [
       "       PMID                                               mesh\n",
       "0  26151948  Algorithms|Data Mining|Databases, Factual|Gene...\n",
       "1  26151946  Adult|Aged|Aged, 80 and over|Decision Making|F...\n",
       "2  26151944  Animals|Biomimetic Materials|Biomimetics|Equip...\n",
       "3  26151942  Amino Acids|Anti-Bacterial Agents|Escherichia ...\n",
       "4  26151941  Action Potentials|Electronics|Humans|Models, N..."
      ]
     },
     "execution_count": 10,
     "metadata": {},
     "output_type": "execute_result"
    }
   ],
   "source": [
    "mesh.head()"
   ]
  },
  {
   "cell_type": "markdown",
   "metadata": {},
   "source": [
    "#### Drop rows where PMID is not in mapAffil"
   ]
  },
  {
   "cell_type": "code",
   "execution_count": 11,
   "metadata": {
    "collapsed": false,
    "scrolled": false
   },
   "outputs": [],
   "source": [
    "mdf = pd.merge(mesh, mapAffil.loc[:,['PMID']].drop_duplicates(), how='inner', on=['PMID'])"
   ]
  },
  {
   "cell_type": "code",
   "execution_count": 12,
   "metadata": {
    "collapsed": false,
    "scrolled": false
   },
   "outputs": [
    {
     "data": {
      "text/plain": [
       "(4984444, 2)"
      ]
     },
     "execution_count": 12,
     "metadata": {},
     "output_type": "execute_result"
    }
   ],
   "source": [
    "mdf.shape"
   ]
  },
  {
   "cell_type": "code",
   "execution_count": null,
   "metadata": {
    "collapsed": true
   },
   "outputs": [],
   "source": [
    "len(mdf.PMID.unique())"
   ]
  },
  {
   "cell_type": "code",
   "execution_count": 14,
   "metadata": {
    "collapsed": false,
    "scrolled": true
   },
   "outputs": [],
   "source": [
    "mdf['cleantext'] = mdf.loc[:,'mesh'].str.lower().str.split('|')"
   ]
  },
  {
   "cell_type": "code",
   "execution_count": 16,
   "metadata": {
    "collapsed": false,
    "scrolled": true
   },
   "outputs": [],
   "source": [
    "mdf.loc[:,'mesh_groups'] = None"
   ]
  },
  {
   "cell_type": "code",
   "execution_count": 17,
   "metadata": {
    "collapsed": false,
    "scrolled": false
   },
   "outputs": [
    {
     "data": {
      "text/html": [
       "<div>\n",
       "<table border=\"1\" class=\"dataframe\">\n",
       "  <thead>\n",
       "    <tr style=\"text-align: right;\">\n",
       "      <th></th>\n",
       "      <th>PMID</th>\n",
       "      <th>mesh</th>\n",
       "      <th>cleantext</th>\n",
       "      <th>mesh_groups</th>\n",
       "    </tr>\n",
       "  </thead>\n",
       "  <tbody>\n",
       "    <tr>\n",
       "      <th>0</th>\n",
       "      <td>26151925</td>\n",
       "      <td>Adult|Amygdala|Case-Control Studies|Female|Hum...</td>\n",
       "      <td>[adult, amygdala, case-control studies, female...</td>\n",
       "      <td>None</td>\n",
       "    </tr>\n",
       "    <tr>\n",
       "      <th>1</th>\n",
       "      <td>26151913</td>\n",
       "      <td>Animals|Cell Differentiation|Gene Expression R...</td>\n",
       "      <td>[animals, cell differentiation, gene expressio...</td>\n",
       "      <td>None</td>\n",
       "    </tr>\n",
       "    <tr>\n",
       "      <th>2</th>\n",
       "      <td>26151911</td>\n",
       "      <td>Acoustic Stimulation|Animals|Brain|Conditionin...</td>\n",
       "      <td>[acoustic stimulation, animals, brain, conditi...</td>\n",
       "      <td>None</td>\n",
       "    </tr>\n",
       "    <tr>\n",
       "      <th>3</th>\n",
       "      <td>26151906</td>\n",
       "      <td>Administration, Intranasal|Animals|Area Under ...</td>\n",
       "      <td>[administration, intranasal, animals, area und...</td>\n",
       "      <td>None</td>\n",
       "    </tr>\n",
       "    <tr>\n",
       "      <th>4</th>\n",
       "      <td>26151904</td>\n",
       "      <td>Animals|Carrier Proteins|Centromere|Chromatin|...</td>\n",
       "      <td>[animals, carrier proteins, centromere, chroma...</td>\n",
       "      <td>None</td>\n",
       "    </tr>\n",
       "  </tbody>\n",
       "</table>\n",
       "</div>"
      ],
      "text/plain": [
       "       PMID                                               mesh  \\\n",
       "0  26151925  Adult|Amygdala|Case-Control Studies|Female|Hum...   \n",
       "1  26151913  Animals|Cell Differentiation|Gene Expression R...   \n",
       "2  26151911  Acoustic Stimulation|Animals|Brain|Conditionin...   \n",
       "3  26151906  Administration, Intranasal|Animals|Area Under ...   \n",
       "4  26151904  Animals|Carrier Proteins|Centromere|Chromatin|...   \n",
       "\n",
       "                                           cleantext mesh_groups  \n",
       "0  [adult, amygdala, case-control studies, female...        None  \n",
       "1  [animals, cell differentiation, gene expressio...        None  \n",
       "2  [acoustic stimulation, animals, brain, conditi...        None  \n",
       "3  [administration, intranasal, animals, area und...        None  \n",
       "4  [animals, carrier proteins, centromere, chroma...        None  "
      ]
     },
     "execution_count": 17,
     "metadata": {},
     "output_type": "execute_result"
    }
   ],
   "source": [
    "mdf.head()"
   ]
  },
  {
   "cell_type": "code",
   "execution_count": 11,
   "metadata": {
    "collapsed": true,
    "scrolled": false
   },
   "outputs": [],
   "source": [
    "mdf.to_csv('../data/clean_mesh.tsv', sep='\\t', index=False)"
   ]
  },
  {
   "cell_type": "code",
   "execution_count": 18,
   "metadata": {
    "collapsed": false
   },
   "outputs": [
    {
     "data": {
      "text/html": [
       "<div>\n",
       "<table border=\"1\" class=\"dataframe\">\n",
       "  <thead>\n",
       "    <tr style=\"text-align: right;\">\n",
       "      <th></th>\n",
       "      <th>PMID</th>\n",
       "      <th>mesh</th>\n",
       "      <th>cleantext</th>\n",
       "      <th>mesh_groups</th>\n",
       "    </tr>\n",
       "  </thead>\n",
       "  <tbody>\n",
       "    <tr>\n",
       "      <th>0</th>\n",
       "      <td>26151925</td>\n",
       "      <td>Adult|Amygdala|Case-Control Studies|Female|Humans|Male|Neuroimaging|Neurokinin-1 Receptor Antagonists|Phobic Disorders|Piperidines|Positron-Emission Tomography|Receptors, Neurokinin-1|Tetrazoles</td>\n",
       "      <td>[adult, amygdala, case-control studies, female, humans, male, neuroimaging, neurokinin-1 receptor antagonists, phobic disorders, piperidines, positron-emission tomography, receptors, neurokinin-1, tetrazoles]</td>\n",
       "      <td>None</td>\n",
       "    </tr>\n",
       "    <tr>\n",
       "      <th>1</th>\n",
       "      <td>26151913</td>\n",
       "      <td>Animals|Cell Differentiation|Gene Expression Regulation|Male|Mice|Mice, Inbred mdx|Mice, Transgenic|MicroRNAs|Muscle, Skeletal|Muscular Dystrophy, Animal|PAX7 Transcription Factor|Physical Conditioning, Animal|Regeneration|Satellite Cells, Skeletal Muscle</td>\n",
       "      <td>[animals, cell differentiation, gene expression regulation, male, mice, mice, inbred mdx, mice, transgenic, micrornas, muscle, skeletal, muscular dystrophy, animal, pax7 transcription factor, physical conditioning, animal, regeneration, satellite cells, skeletal muscle]</td>\n",
       "      <td>None</td>\n",
       "    </tr>\n",
       "    <tr>\n",
       "      <th>2</th>\n",
       "      <td>26151911</td>\n",
       "      <td>Acoustic Stimulation|Animals|Brain|Conditioning (Psychology)|Conditioning, Classical|Cues|Dendritic Spines|Electric Stimulation|Extremities|Fear|Male|Mice|Neuronal Plasticity</td>\n",
       "      <td>[acoustic stimulation, animals, brain, conditioning (psychology), conditioning, classical, cues, dendritic spines, electric stimulation, extremities, fear, male, mice, neuronal plasticity]</td>\n",
       "      <td>None</td>\n",
       "    </tr>\n",
       "    <tr>\n",
       "      <th>3</th>\n",
       "      <td>26151906</td>\n",
       "      <td>Administration, Intranasal|Animals|Area Under Curve|Central Nervous System|Cerebellar Cortex|Chromatography, High Pressure Liquid|Glutamate Carboxypeptidase II|Glutarates|Half-Life|Injections, Intraperitoneal|Macaca fascicularis|Male|Olfactory Bulb|Organophosphorus Compounds|ROC Curve|Rats|Rats,...</td>\n",
       "      <td>[administration, intranasal, animals, area under curve, central nervous system, cerebellar cortex, chromatography, high pressure liquid, glutamate carboxypeptidase ii, glutarates, half-life, injections, intraperitoneal, macaca fascicularis, male, olfactory bulb, organophosphorus compounds, roc c...</td>\n",
       "      <td>None</td>\n",
       "    </tr>\n",
       "    <tr>\n",
       "      <th>4</th>\n",
       "      <td>26151904</td>\n",
       "      <td>Animals|Carrier Proteins|Centromere|Chromatin|Chromatin Assembly and Disassembly|DNA-Binding Proteins|Drosophila Proteins|Drosophila melanogaster|Histones|Mitosis</td>\n",
       "      <td>[animals, carrier proteins, centromere, chromatin, chromatin assembly and disassembly, dna-binding proteins, drosophila proteins, drosophila melanogaster, histones, mitosis]</td>\n",
       "      <td>None</td>\n",
       "    </tr>\n",
       "  </tbody>\n",
       "</table>\n",
       "</div>"
      ],
      "text/plain": [
       "       PMID  \\\n",
       "0  26151925   \n",
       "1  26151913   \n",
       "2  26151911   \n",
       "3  26151906   \n",
       "4  26151904   \n",
       "\n",
       "                                                                                                                                                                                                                                                                                                          mesh  \\\n",
       "0                                                                                                           Adult|Amygdala|Case-Control Studies|Female|Humans|Male|Neuroimaging|Neurokinin-1 Receptor Antagonists|Phobic Disorders|Piperidines|Positron-Emission Tomography|Receptors, Neurokinin-1|Tetrazoles   \n",
       "1                                              Animals|Cell Differentiation|Gene Expression Regulation|Male|Mice|Mice, Inbred mdx|Mice, Transgenic|MicroRNAs|Muscle, Skeletal|Muscular Dystrophy, Animal|PAX7 Transcription Factor|Physical Conditioning, Animal|Regeneration|Satellite Cells, Skeletal Muscle   \n",
       "2                                                                                                                               Acoustic Stimulation|Animals|Brain|Conditioning (Psychology)|Conditioning, Classical|Cues|Dendritic Spines|Electric Stimulation|Extremities|Fear|Male|Mice|Neuronal Plasticity   \n",
       "3  Administration, Intranasal|Animals|Area Under Curve|Central Nervous System|Cerebellar Cortex|Chromatography, High Pressure Liquid|Glutamate Carboxypeptidase II|Glutarates|Half-Life|Injections, Intraperitoneal|Macaca fascicularis|Male|Olfactory Bulb|Organophosphorus Compounds|ROC Curve|Rats|Rats,...   \n",
       "4                                                                                                                                           Animals|Carrier Proteins|Centromere|Chromatin|Chromatin Assembly and Disassembly|DNA-Binding Proteins|Drosophila Proteins|Drosophila melanogaster|Histones|Mitosis   \n",
       "\n",
       "                                                                                                                                                                                                                                                                                                     cleantext  \\\n",
       "0                                                                                             [adult, amygdala, case-control studies, female, humans, male, neuroimaging, neurokinin-1 receptor antagonists, phobic disorders, piperidines, positron-emission tomography, receptors, neurokinin-1, tetrazoles]   \n",
       "1                               [animals, cell differentiation, gene expression regulation, male, mice, mice, inbred mdx, mice, transgenic, micrornas, muscle, skeletal, muscular dystrophy, animal, pax7 transcription factor, physical conditioning, animal, regeneration, satellite cells, skeletal muscle]   \n",
       "2                                                                                                                 [acoustic stimulation, animals, brain, conditioning (psychology), conditioning, classical, cues, dendritic spines, electric stimulation, extremities, fear, male, mice, neuronal plasticity]   \n",
       "3  [administration, intranasal, animals, area under curve, central nervous system, cerebellar cortex, chromatography, high pressure liquid, glutamate carboxypeptidase ii, glutarates, half-life, injections, intraperitoneal, macaca fascicularis, male, olfactory bulb, organophosphorus compounds, roc c...   \n",
       "4                                                                                                                                [animals, carrier proteins, centromere, chromatin, chromatin assembly and disassembly, dna-binding proteins, drosophila proteins, drosophila melanogaster, histones, mitosis]   \n",
       "\n",
       "  mesh_groups  \n",
       "0        None  \n",
       "1        None  \n",
       "2        None  \n",
       "3        None  \n",
       "4        None  "
      ]
     },
     "execution_count": 18,
     "metadata": {},
     "output_type": "execute_result"
    }
   ],
   "source": [
    "mdf_subset = mdf[:500]\n",
    "pd.set_option('max_colwidth',300)\n",
    "mdf_subset.head()"
   ]
  },
  {
   "cell_type": "code",
   "execution_count": null,
   "metadata": {
    "collapsed": false,
    "scrolled": true
   },
   "outputs": [],
   "source": [
    "mesh_subset = mesh[:500]\n",
    "pd.set_option('max_colwidth',300)\n",
    "mesh_subset.head()"
   ]
  },
  {
   "cell_type": "markdown",
   "metadata": {},
   "source": [
    "- create tsv file with PMID, mental_count, neoplasms_count, nervous_count, respiratory_count, circulatory_count\n",
    "\n",
    "\n",
    "\n",
    "- Plot individual FIPS codes\n"
   ]
  },
  {
   "cell_type": "markdown",
   "metadata": {},
   "source": [
    "### Web Scrape MeSH trees"
   ]
  },
  {
   "cell_type": "code",
   "execution_count": 22,
   "metadata": {
    "collapsed": false,
    "scrolled": true
   },
   "outputs": [],
   "source": [
    "import requests\n",
    "from bs4 import BeautifulSoup\n",
    "import re\n",
    "from fuzzywuzzy import fuzz\n",
    "import time\n",
    "from multiprocessing.dummy import Pool as ThreadPool \n",
    "\n",
    "\n",
    "circulatory = 'https://www.nlm.nih.gov/mesh/2015/mesh_trees/C14.html'\n",
    "respiratory = 'https://www.nlm.nih.gov/mesh/2015/mesh_trees/C08.html'\n",
    "neoplasms = 'https://www.nlm.nih.gov/mesh/2015/mesh_trees/C04.html'\n",
    "nervous = 'https://www.nlm.nih.gov/mesh/2015/mesh_trees/C10.html'\n",
    "mental = 'https://www.nlm.nih.gov/mesh/2015/mesh_trees/F03.html'\n",
    "\n",
    "#urls = [circulatory,respiratory,neoplasms,nervous,mental]\n",
    "\n",
    "\n",
    "\n",
    "def scrape_and_clean(url):\n",
    "    print(url)\n",
    "    res = requests.get(url)\n",
    "    res.raise_for_status()\n",
    "    soup = BeautifulSoup(res.text, 'lxml')\n",
    "    toplevel = soup.find('ul', {'class':'Level1'})\n",
    "    list_all = toplevel.get_text().split('\\n')\n",
    "    print(list_all[0])\n",
    "    list_all = list(filter(None, list_all))\n",
    "    regex = re.compile(r'\\[.*\\]', re.IGNORECASE)\n",
    "    clean_list = [regex.sub(\"\", line).strip().lower() for line in list_all]\n",
    "    return clean_list\n",
    "\n",
    "\n",
    "# for l in urls:\n",
    "#     scrape_and_clean(l)"
   ]
  },
  {
   "cell_type": "code",
   "execution_count": 23,
   "metadata": {
    "collapsed": false,
    "scrolled": true
   },
   "outputs": [
    {
     "name": "stdout",
     "output_type": "stream",
     "text": [
      "https://www.nlm.nih.gov/mesh/2015/mesh_trees/C14.html\n",
      "Cardiovascular Diseases [C14]\n",
      "https://www.nlm.nih.gov/mesh/2015/mesh_trees/F03.html\n",
      "Mental Disorders [F03]\n",
      "https://www.nlm.nih.gov/mesh/2015/mesh_trees/C08.html\n",
      "Respiratory Tract Diseases [C08]\n",
      "https://www.nlm.nih.gov/mesh/2015/mesh_trees/C10.html\n",
      "Nervous System Diseases [C10]\n",
      "https://www.nlm.nih.gov/mesh/2015/mesh_trees/C04.html\n",
      "Neoplasms [C04]\n"
     ]
    }
   ],
   "source": [
    "tree_dict = dict()\n",
    "tree_dict['circulatory'] = set(scrape_and_clean(circulatory))\n",
    "tree_dict['mental'] = set(scrape_and_clean(mental))\n",
    "tree_dict['respiratory'] = set(scrape_and_clean(respiratory))\n",
    "tree_dict['nervous'] = set(scrape_and_clean(nervous))\n",
    "tree_dict['neoplasms'] = set(scrape_and_clean(neoplasms))"
   ]
  },
  {
   "cell_type": "code",
   "execution_count": 14,
   "metadata": {
    "collapsed": false,
    "scrolled": true
   },
   "outputs": [
    {
     "name": "stdout",
     "output_type": "stream",
     "text": [
      "https://www.nlm.nih.gov/mesh/2015/mesh_trees/C14.html\n",
      "Cardiovascular Diseases [C14]\n",
      "https://www.nlm.nih.gov/mesh/2015/mesh_trees/C08.html\n",
      "Respiratory Tract Diseases [C08]\n",
      "https://www.nlm.nih.gov/mesh/2015/mesh_trees/F03.html\n",
      "Mental Disorders [F03]\n",
      "https://www.nlm.nih.gov/mesh/2015/mesh_trees/C04.html\n",
      "Neoplasms [C04]\n",
      "https://www.nlm.nih.gov/mesh/2015/mesh_trees/C10.html\n",
      "Nervous System Diseases [C10]\n"
     ]
    }
   ],
   "source": [
    "circulatory_list = scrape_and_clean(circulatory)\n",
    "respiratory_list = scrape_and_clean(respiratory)\n",
    "mental_list = scrape_and_clean(mental)\n",
    "neoplasms_list = scrape_and_clean(neoplasms)\n",
    "nervous_list = scrape_and_clean(nervous)"
   ]
  },
  {
   "cell_type": "code",
   "execution_count": 25,
   "metadata": {
    "collapsed": false,
    "scrolled": true
   },
   "outputs": [
    {
     "data": {
      "text/plain": [
       "set()"
      ]
     },
     "execution_count": 25,
     "metadata": {},
     "output_type": "execute_result"
    }
   ],
   "source": [
    "def check_fuzzy(check_set, word):\n",
    "    \"\"\"\n",
    "    Compares a term to each term in a set (e.g. mesh terms from `tree_dict`)\n",
    "    and returns the maximum fuzzy match\n",
    "    \"\"\"\n",
    "    ratios = []\n",
    "    for i in check_set:\n",
    "        ratio = fuzz.SequenceMatcher(isjunk=None,seq1=i, seq2=word).quick_ratio()\n",
    "        ratios.append((i,ratio))\n",
    "    maxval = max(ratios,key=lambda item:item[1])\n",
    "    return maxval\n",
    "#check_fuzzy(mental_list, 'schizophrenia')"
   ]
  },
  {
   "cell_type": "code",
   "execution_count": null,
   "metadata": {
    "collapsed": true
   },
   "outputs": [],
   "source": [
    "def add_mesh_groups(df, dictionary):\n",
    "    \"\"\"\n",
    "    Iterates over each mesh term in `cleantext` column of the df \n",
    "    and checks for it in the dictionary of mesh trees. When a match is found, \n",
    "    the tree category (e.g. 'circulatory','respiratory', 'neoplasms', 'mental','nervous')\n",
    "    is added to a set in `mesh_groups` column of the df\n",
    "    \"\"\"\n",
    "    for idx, row in df.iterrows():\n",
    "        for term in row['cleantext']:\n",
    "        #print(term)\n",
    "            for k,v in dictionary.items():\n",
    "                if term in v:\n",
    "                    #print(k, term)\n",
    "                    if pd.isnull(row['mesh_groups']) == True:\n",
    "                        row['mesh_groups'] = {k}\n",
    "                    else:\n",
    "                        row['mesh_groups'] = row['mesh_groups'].union({k})\n",
    "\n",
    "# uncomment this to also add fuzzy matches over 0.9 to df\n",
    "# (fn will take about 0.11 seconds per row in df):\n",
    "\n",
    "#                elif check_fuzzy(v, term)[1] > 0.9:\n",
    "#                    if pd.isnull(row['mesh_groups']) == True:\n",
    "#                        row['mesh_groups'] = {k}\n",
    "#                    else:\n",
    "#                        row['mesh_groups'] = row['mesh_groups'].union({k})\n",
    "\n",
    "                else:\n",
    "                    continue"
   ]
  },
  {
   "cell_type": "code",
   "execution_count": 68,
   "metadata": {
    "collapsed": false
   },
   "outputs": [
    {
     "name": "stdout",
     "output_type": "stream",
     "text": [
      "CPU times: user 81.8 ms, sys: 7.69 ms, total: 89.5 ms\n",
      "Wall time: 89.7 ms\n"
     ]
    }
   ],
   "source": [
    "%%time \n",
    "\n",
    "add_mesh_groups(mdf_subset, tree_dict)"
   ]
  },
  {
   "cell_type": "code",
   "execution_count": 92,
   "metadata": {
    "collapsed": false
   },
   "outputs": [
    {
     "data": {
      "text/html": [
       "<div>\n",
       "<table border=\"1\" class=\"dataframe\">\n",
       "  <thead>\n",
       "    <tr style=\"text-align: right;\">\n",
       "      <th></th>\n",
       "      <th>PMID</th>\n",
       "      <th>mesh</th>\n",
       "      <th>cleantext</th>\n",
       "      <th>mesh_groups</th>\n",
       "    </tr>\n",
       "  </thead>\n",
       "  <tbody>\n",
       "    <tr>\n",
       "      <th>0</th>\n",
       "      <td>26151925</td>\n",
       "      <td>Adult|Amygdala|Case-Control Studies|Female|Humans|Male|Neuroimaging|Neurokinin-1 Receptor Antagonists|Phobic Disorders|Piperidines|Positron-Emission Tomography|Receptors, Neurokinin-1|Tetrazoles</td>\n",
       "      <td>[adult, amygdala, case-control studies, female, humans, male, neuroimaging, neurokinin-1 receptor antagonists, phobic disorders, piperidines, positron-emission tomography, receptors, neurokinin-1, tetrazoles]</td>\n",
       "      <td>{mental}</td>\n",
       "    </tr>\n",
       "    <tr>\n",
       "      <th>7</th>\n",
       "      <td>26151900</td>\n",
       "      <td>Adult|Aged|Aged, 80 and over|Anomia|Cerebral Infarction|Female|Humans|Male|Mental Recall|Middle Aged|Narration|Neuropsychological Tests|Pattern Recognition, Visual|Psychometrics|Reproducibility of Results|Semantics|Vocabulary</td>\n",
       "      <td>[adult, aged, aged, 80 and over, anomia, cerebral infarction, female, humans, male, mental recall, middle aged, narration, neuropsychological tests, pattern recognition, visual, psychometrics, reproducibility of results, semantics, vocabulary]</td>\n",
       "      <td>{circulatory, nervous}</td>\n",
       "    </tr>\n",
       "    <tr>\n",
       "      <th>11</th>\n",
       "      <td>26151864</td>\n",
       "      <td>Cross-Sectional Studies|Female|Hip Fractures|Hospital Administration|Hospitals|Humans|Male|Myocardial Infarction|Patient Participation|Patient Satisfaction|Patients|Quality Improvement|Stroke|Surveys and Questionnaires</td>\n",
       "      <td>[cross-sectional studies, female, hip fractures, hospital administration, hospitals, humans, male, myocardial infarction, patient participation, patient satisfaction, patients, quality improvement, stroke, surveys and questionnaires]</td>\n",
       "      <td>{circulatory, nervous}</td>\n",
       "    </tr>\n",
       "    <tr>\n",
       "      <th>12</th>\n",
       "      <td>26151861</td>\n",
       "      <td>Analysis of Variance|Attitude of Health Personnel|Cognitive Therapy|Education, Continuing|Evidence-Based Practice|Guideline Adherence|Health Personnel|Humans|Mississippi|Practice Guidelines as Topic|Substance-Related Disorders</td>\n",
       "      <td>[analysis of variance, attitude of health personnel, cognitive therapy, education, continuing, evidence-based practice, guideline adherence, health personnel, humans, mississippi, practice guidelines as topic, substance-related disorders]</td>\n",
       "      <td>{mental}</td>\n",
       "    </tr>\n",
       "    <tr>\n",
       "      <th>13</th>\n",
       "      <td>26151850</td>\n",
       "      <td>Animals|History, 20th Century|History, 21st Century|Humans|Neoplasms|Photochemotherapy</td>\n",
       "      <td>[animals, history, 20th century, history, 21st century, humans, neoplasms, photochemotherapy]</td>\n",
       "      <td>{neoplasms}</td>\n",
       "    </tr>\n",
       "    <tr>\n",
       "      <th>14</th>\n",
       "      <td>26151848</td>\n",
       "      <td>Animals|Behavior, Animal|Cerebral Cortex|Chemokines|Cytokines|Hippocampus|Kynurenine|Lupus Vasculitis, Central Nervous System|Memory|Mice|Mice, Inbred C57BL</td>\n",
       "      <td>[animals, behavior, animal, cerebral cortex, chemokines, cytokines, hippocampus, kynurenine, lupus vasculitis, central nervous system, memory, mice, mice, inbred c57bl]</td>\n",
       "      <td>{circulatory, nervous}</td>\n",
       "    </tr>\n",
       "    <tr>\n",
       "      <th>16</th>\n",
       "      <td>26151842</td>\n",
       "      <td>Animals|Chromosomes, Human|Collagen Type III|Disease Models, Animal|Fibrosis|Gene Regulatory Networks|Humans|Lung Diseases|Mice|Quantitative Trait Loci|Species Specificity|Synteny|Translational Medical Research</td>\n",
       "      <td>[animals, chromosomes, human, collagen type iii, disease models, animal, fibrosis, gene regulatory networks, humans, lung diseases, mice, quantitative trait loci, species specificity, synteny, translational medical research]</td>\n",
       "      <td>{respiratory}</td>\n",
       "    </tr>\n",
       "    <tr>\n",
       "      <th>17</th>\n",
       "      <td>26151840</td>\n",
       "      <td>Algorithms|Brain|Brain Neoplasms|Humans|Image Processing, Computer-Assisted|Magnetic Resonance Imaging|Oligodendroglioma|Phantoms, Imaging</td>\n",
       "      <td>[algorithms, brain, brain neoplasms, humans, image processing, computer-assisted, magnetic resonance imaging, oligodendroglioma, phantoms, imaging]</td>\n",
       "      <td>{neoplasms, nervous}</td>\n",
       "    </tr>\n",
       "    <tr>\n",
       "      <th>18</th>\n",
       "      <td>26151827</td>\n",
       "      <td>Angiotensin II|Animals|Blood Pressure|Disease Models, Animal|Gene Knockout Techniques|Hypertension|Kidney Tubules, Collecting|Male|Mice|Receptor, Bradykinin B2|Sodium Chloride, Dietary</td>\n",
       "      <td>[angiotensin ii, animals, blood pressure, disease models, animal, gene knockout techniques, hypertension, kidney tubules, collecting, male, mice, receptor, bradykinin b2, sodium chloride, dietary]</td>\n",
       "      <td>{circulatory}</td>\n",
       "    </tr>\n",
       "    <tr>\n",
       "      <th>20</th>\n",
       "      <td>26151821</td>\n",
       "      <td>Case-Control Studies|Colorectal Neoplasms|Genetic Predisposition to Disease|Genome-Wide Association Study|Humans|Odds Ratio|Polymorphism, Single Nucleotide</td>\n",
       "      <td>[case-control studies, colorectal neoplasms, genetic predisposition to disease, genome-wide association study, humans, odds ratio, polymorphism, single nucleotide]</td>\n",
       "      <td>{neoplasms}</td>\n",
       "    </tr>\n",
       "    <tr>\n",
       "      <th>23</th>\n",
       "      <td>26151804</td>\n",
       "      <td>Diagnostic and Statistical Manual of Mental Disorders|Humans|Personality Assessment|Personality Disorders</td>\n",
       "      <td>[diagnostic and statistical manual of mental disorders, humans, personality assessment, personality disorders]</td>\n",
       "      <td>{mental}</td>\n",
       "    </tr>\n",
       "    <tr>\n",
       "      <th>25</th>\n",
       "      <td>26151762</td>\n",
       "      <td>Acinar Cells|Adenocarcinoma|Animals|Carcinoma in Situ|Carcinoma, Pancreatic Ductal|Cell Transdifferentiation|Disease Models, Animal|Gene Expression Profiling|Humans|Mice|Transcription Factors</td>\n",
       "      <td>[acinar cells, adenocarcinoma, animals, carcinoma in situ, carcinoma, pancreatic ductal, cell transdifferentiation, disease models, animal, gene expression profiling, humans, mice, transcription factors]</td>\n",
       "      <td>{neoplasms}</td>\n",
       "    </tr>\n",
       "    <tr>\n",
       "      <th>28</th>\n",
       "      <td>26151751</td>\n",
       "      <td>Adult|Aged|Aged, 80 and over|Aspirin|Cardiovascular Diseases|Female|Humans|Male|Middle Aged|Neoplasms|Primary Prevention|Risk Assessment</td>\n",
       "      <td>[adult, aged, aged, 80 and over, aspirin, cardiovascular diseases, female, humans, male, middle aged, neoplasms, primary prevention, risk assessment]</td>\n",
       "      <td>{circulatory, neoplasms}</td>\n",
       "    </tr>\n",
       "    <tr>\n",
       "      <th>33</th>\n",
       "      <td>26151738</td>\n",
       "      <td>Adolescent|Adult|Aged|Attention Deficit Disorder with Hyperactivity|Caregivers|Central Nervous System Stimulants|Child|Female|Humans|Male|Middle Aged|Stress, Psychological|Surveys and Questionnaires|Time Factors|Young Adult</td>\n",
       "      <td>[adolescent, adult, aged, attention deficit disorder with hyperactivity, caregivers, central nervous system stimulants, child, female, humans, male, middle aged, stress, psychological, surveys and questionnaires, time factors, young adult]</td>\n",
       "      <td>{mental}</td>\n",
       "    </tr>\n",
       "    <tr>\n",
       "      <th>36</th>\n",
       "      <td>26151718</td>\n",
       "      <td>Animals|Diet, High-Fat|Dietary Sucrose|Female|Male|Mice|Stroke Volume|Systole|Ventricular Dysfunction, Left|Ventricular Function, Left</td>\n",
       "      <td>[animals, diet, high-fat, dietary sucrose, female, male, mice, stroke volume, systole, ventricular dysfunction, left, ventricular function, left]</td>\n",
       "      <td>{circulatory}</td>\n",
       "    </tr>\n",
       "    <tr>\n",
       "      <th>38</th>\n",
       "      <td>26151676</td>\n",
       "      <td>Abiraterone Acetate|Adult|Aged|Aged, 80 and over|Antineoplastic Agents|Disease Progression|Disease-Free Survival|Dose-Response Relationship, Drug|Double-Blind Method|Drug Therapy, Combination|Follow-Up Studies|Glucocorticoids|Humans|Male|Middle Aged|Neoplasm Metastasis|Prednisone|Prostatic Neopl...</td>\n",
       "      <td>[abiraterone acetate, adult, aged, aged, 80 and over, antineoplastic agents, disease progression, disease-free survival, dose-response relationship, drug, double-blind method, drug therapy, combination, follow-up studies, glucocorticoids, humans, male, middle aged, neoplasm metastasis, prednison...</td>\n",
       "      <td>{neoplasms}</td>\n",
       "    </tr>\n",
       "    <tr>\n",
       "      <th>50</th>\n",
       "      <td>26151650</td>\n",
       "      <td>Air Pollutants|Air Pollution|Animals|Apolipoproteins E|Atherosclerosis|Inhalation Exposure|Mice|Oxidative Stress|Particulate Matter</td>\n",
       "      <td>[air pollutants, air pollution, animals, apolipoproteins e, atherosclerosis, inhalation exposure, mice, oxidative stress, particulate matter]</td>\n",
       "      <td>{circulatory}</td>\n",
       "    </tr>\n",
       "    <tr>\n",
       "      <th>58</th>\n",
       "      <td>26151614</td>\n",
       "      <td>Child Development|Child, Preschool|Cognition Disorders|Executive Function|Female|Humans|Inhibition (Psychology)|Male|Memory, Short-Term|Neuropsychological Tests|Schools|Sleep Wake Disorders</td>\n",
       "      <td>[child development, child, preschool, cognition disorders, executive function, female, humans, inhibition (psychology), male, memory, short-term, neuropsychological tests, schools, sleep wake disorders]</td>\n",
       "      <td>{mental}</td>\n",
       "    </tr>\n",
       "    <tr>\n",
       "      <th>61</th>\n",
       "      <td>26151610</td>\n",
       "      <td>Adolescent|Attention|Attention Deficit Disorder with Hyperactivity|Female|Humans|Hyperkinesis|Male|Sleep Wake Disorders</td>\n",
       "      <td>[adolescent, attention, attention deficit disorder with hyperactivity, female, humans, hyperkinesis, male, sleep wake disorders]</td>\n",
       "      <td>{mental, nervous}</td>\n",
       "    </tr>\n",
       "    <tr>\n",
       "      <th>68</th>\n",
       "      <td>26151586</td>\n",
       "      <td>Arizona|Cohort Studies|Developmental Disabilities|Environmental Exposure|Female|Humans|Indians, North American|Metals|Mining|Pregnancy|Prenatal Exposure Delayed Effects|Public Health Surveillance|United States</td>\n",
       "      <td>[arizona, cohort studies, developmental disabilities, environmental exposure, female, humans, indians, north american, metals, mining, pregnancy, prenatal exposure delayed effects, public health surveillance, united states]</td>\n",
       "      <td>{mental}</td>\n",
       "    </tr>\n",
       "    <tr>\n",
       "      <th>69</th>\n",
       "      <td>26151585</td>\n",
       "      <td>Adolescent|Adult|Alcohol Drinking|Alcoholism|Comorbidity|Female|Humans|Male|Mental Disorders|Prevalence|Substance-Related Disorders|United States|Young Adult</td>\n",
       "      <td>[adolescent, adult, alcohol drinking, alcoholism, comorbidity, female, humans, male, mental disorders, prevalence, substance-related disorders, united states, young adult]</td>\n",
       "      <td>{mental}</td>\n",
       "    </tr>\n",
       "    <tr>\n",
       "      <th>70</th>\n",
       "      <td>26151584</td>\n",
       "      <td>Adult|Anxiety Disorders|Asthma|Comorbidity|Female|Humans|Male|Motivation|Smoking Cessation|Tobacco Use Disorder</td>\n",
       "      <td>[adult, anxiety disorders, asthma, comorbidity, female, humans, male, motivation, smoking cessation, tobacco use disorder]</td>\n",
       "      <td>{respiratory, mental}</td>\n",
       "    </tr>\n",
       "    <tr>\n",
       "      <th>71</th>\n",
       "      <td>26151582</td>\n",
       "      <td>Adolescent|Adult|Aged|California|Cannabinoids|Cannabis|Comorbidity|Dreams|Female|Humans|Hypnotics and Sedatives|Male|Marijuana Abuse|Medical Marijuana|Middle Aged|Sleep|Sleep Initiation and Maintenance Disorders|Young Adult</td>\n",
       "      <td>[adolescent, adult, aged, california, cannabinoids, cannabis, comorbidity, dreams, female, humans, hypnotics and sedatives, male, marijuana abuse, medical marijuana, middle aged, sleep, sleep initiation and maintenance disorders, young adult]</td>\n",
       "      <td>{mental, nervous}</td>\n",
       "    </tr>\n",
       "    <tr>\n",
       "      <th>73</th>\n",
       "      <td>26151580</td>\n",
       "      <td>Adult|Alcoholism|Cross-Sectional Studies|Employment|Family Conflict|Female|Humans|Male|Mental Disorders|Pennsylvania|Prevalence|Severity of Illness Index|Sleep Initiation and Maintenance Disorders|Social Behavior|Surveys and Questionnaires</td>\n",
       "      <td>[adult, alcoholism, cross-sectional studies, employment, family conflict, female, humans, male, mental disorders, pennsylvania, prevalence, severity of illness index, sleep initiation and maintenance disorders, social behavior, surveys and questionnaires]</td>\n",
       "      <td>{mental, nervous}</td>\n",
       "    </tr>\n",
       "    <tr>\n",
       "      <th>74</th>\n",
       "      <td>26151579</td>\n",
       "      <td>Adolescent|Adult|Age Factors|Age of Onset|Child|Female|Humans|Male|Middle Aged|Risk Factors|Sex Factors|Tobacco Use Disorder|United States|Young Adult</td>\n",
       "      <td>[adolescent, adult, age factors, age of onset, child, female, humans, male, middle aged, risk factors, sex factors, tobacco use disorder, united states, young adult]</td>\n",
       "      <td>{mental}</td>\n",
       "    </tr>\n",
       "    <tr>\n",
       "      <th>83</th>\n",
       "      <td>26151527</td>\n",
       "      <td>Abdominal Pain|Adult|Appendix|Cecal Diseases|Humans|Male|Mucocele|Tomography, X-Ray Computed</td>\n",
       "      <td>[abdominal pain, adult, appendix, cecal diseases, humans, male, mucocele, tomography, x-ray computed]</td>\n",
       "      <td>{neoplasms}</td>\n",
       "    </tr>\n",
       "    <tr>\n",
       "      <th>85</th>\n",
       "      <td>26151524</td>\n",
       "      <td>Aorta, Thoracic|Endovascular Procedures|Humans|Thoracic Surgical Procedures|Treatment Outcome|Vascular System Injuries|Wounds, Nonpenetrating</td>\n",
       "      <td>[aorta, thoracic, endovascular procedures, humans, thoracic surgical procedures, treatment outcome, vascular system injuries, wounds, nonpenetrating]</td>\n",
       "      <td>{circulatory}</td>\n",
       "    </tr>\n",
       "    <tr>\n",
       "      <th>89</th>\n",
       "      <td>26151518</td>\n",
       "      <td>Abdominal Injuries|Adult|Age Factors|Aged|Aged, 80 and over|Humans|Hypotension|Hypovolemia|Injury Severity Score|Middle Aged|Retrospective Studies|Shock, Traumatic|Tomography, X-Ray Computed|Trauma Centers|Wounds, Nonpenetrating|Young Adult</td>\n",
       "      <td>[abdominal injuries, adult, age factors, aged, aged, 80 and over, humans, hypotension, hypovolemia, injury severity score, middle aged, retrospective studies, shock, traumatic, tomography, x-ray computed, trauma centers, wounds, nonpenetrating, young adult]</td>\n",
       "      <td>{circulatory}</td>\n",
       "    </tr>\n",
       "    <tr>\n",
       "      <th>90</th>\n",
       "      <td>26151516</td>\n",
       "      <td>Adolescent|Age Factors|Child|Child, Preschool|Craniocerebral Trauma|Critical Care|Databases, Factual|Female|Glasgow Coma Scale|Humans|Incidence|Infant|Infant, Newborn|Injury Severity Score|Length of Stay|Male|Neck Injuries|Pneumonia, Ventilator-Associated|Respiration, Artificial|Retrospective St...</td>\n",
       "      <td>[adolescent, age factors, child, child, preschool, craniocerebral trauma, critical care, databases, factual, female, glasgow coma scale, humans, incidence, infant, infant, newborn, injury severity score, length of stay, male, neck injuries, pneumonia, ventilator-associated, respiration, artifici...</td>\n",
       "      <td>{respiratory, nervous}</td>\n",
       "    </tr>\n",
       "    <tr>\n",
       "      <th>91</th>\n",
       "      <td>26151515</td>\n",
       "      <td>Adolescent|Child|Child, Preschool|Craniocerebral Trauma|Female|Glasgow Coma Scale|Hemorrhage|Humans|Hypotension|Incidence|Infant|Infant, Newborn|Injury Severity Score|Male|Registries|Retrospective Studies|Risk Assessment|Spinal Cord Injuries|Trauma Centers|United States</td>\n",
       "      <td>[adolescent, child, child, preschool, craniocerebral trauma, female, glasgow coma scale, hemorrhage, humans, hypotension, incidence, infant, infant, newborn, injury severity score, male, registries, retrospective studies, risk assessment, spinal cord injuries, trauma centers, united states]</td>\n",
       "      <td>{circulatory, nervous}</td>\n",
       "    </tr>\n",
       "    <tr>\n",
       "      <th>...</th>\n",
       "      <td>...</td>\n",
       "      <td>...</td>\n",
       "      <td>...</td>\n",
       "      <td>...</td>\n",
       "    </tr>\n",
       "    <tr>\n",
       "      <th>386</th>\n",
       "      <td>26150078</td>\n",
       "      <td>Brain|Child Abuse|Child, Preschool|Craniocerebral Trauma|Female|Humans|Infant|Infant, Newborn|Magnetic Resonance Angiography|Magnetic Resonance Imaging|Male|Phlebography|Reproducibility of Results|Retrospective Studies</td>\n",
       "      <td>[brain, child abuse, child, preschool, craniocerebral trauma, female, humans, infant, infant, newborn, magnetic resonance angiography, magnetic resonance imaging, male, phlebography, reproducibility of results, retrospective studies]</td>\n",
       "      <td>{nervous}</td>\n",
       "    </tr>\n",
       "    <tr>\n",
       "      <th>393</th>\n",
       "      <td>26150023</td>\n",
       "      <td>Abdominal Pain|Adolescent|Adult|Child|Child, Preschool|Colitis, Ischemic|Female|Gastrointestinal Hemorrhage|Graft Survival|Graft vs Host Disease|Hematopoietic Stem Cell Transplantation|Hemoglobinuria, Paroxysmal|Humans|Infant|Intestinal Mucosa|Intestines|Lymphohistiocytosis, Hemophagocytic|Male|...</td>\n",
       "      <td>[abdominal pain, adolescent, adult, child, child, preschool, colitis, ischemic, female, gastrointestinal hemorrhage, graft survival, graft vs host disease, hematopoietic stem cell transplantation, hemoglobinuria, paroxysmal, humans, infant, intestinal mucosa, intestines, lymphohistiocytosis, hem...</td>\n",
       "      <td>{circulatory}</td>\n",
       "    </tr>\n",
       "    <tr>\n",
       "      <th>394</th>\n",
       "      <td>26150022</td>\n",
       "      <td>Antibiotic Prophylaxis|Antifungal Agents|Antineoplastic Combined Chemotherapy Protocols|Bacteremia|Clostridium Infections|Clostridium difficile|Combined Modality Therapy|Drug Resistance, Microbial|Drug Resistance, Multiple, Bacterial|Enterobacteriaceae|Enterobacteriaceae Infections|Febrile Neutr...</td>\n",
       "      <td>[antibiotic prophylaxis, antifungal agents, antineoplastic combined chemotherapy protocols, bacteremia, clostridium infections, clostridium difficile, combined modality therapy, drug resistance, microbial, drug resistance, multiple, bacterial, enterobacteriaceae, enterobacteriaceae infections, f...</td>\n",
       "      <td>{circulatory, neoplasms}</td>\n",
       "    </tr>\n",
       "    <tr>\n",
       "      <th>395</th>\n",
       "      <td>26150014</td>\n",
       "      <td>Aged|Aged, 80 and over|Colorectal Neoplasms|Early Detection of Cancer|Healthcare Disparities|Humans|Louisiana|Middle Aged|Models, Statistical|Mortality|New Jersey|Risk Assessment|Risk Factors</td>\n",
       "      <td>[aged, aged, 80 and over, colorectal neoplasms, early detection of cancer, healthcare disparities, humans, louisiana, middle aged, models, statistical, mortality, new jersey, risk assessment, risk factors]</td>\n",
       "      <td>{neoplasms}</td>\n",
       "    </tr>\n",
       "    <tr>\n",
       "      <th>398</th>\n",
       "      <td>26149998</td>\n",
       "      <td>Antiviral Agents|Capsid|Disease Outbreaks|Enterovirus D, Human|Enterovirus Infections|Humans|Microbial Sensitivity Tests|Protease Inhibitors|Respiratory Tract Infections</td>\n",
       "      <td>[antiviral agents, capsid, disease outbreaks, enterovirus d, human, enterovirus infections, humans, microbial sensitivity tests, protease inhibitors, respiratory tract infections]</td>\n",
       "      <td>{respiratory}</td>\n",
       "    </tr>\n",
       "    <tr>\n",
       "      <th>406</th>\n",
       "      <td>26149981</td>\n",
       "      <td>Animals|Antiviral Agents|Blotting, Western|Cell Line|Dogs|Enzyme-Linked Immunosorbent Assay|Hemagglutinins, Viral|Humans|Influenza, Human|Mice|Mice, Inbred C57BL|Reverse Transcriptase Polymerase Chain Reaction|Serpins|Tissue Kallikreins</td>\n",
       "      <td>[animals, antiviral agents, blotting, western, cell line, dogs, enzyme-linked immunosorbent assay, hemagglutinins, viral, humans, influenza, human, mice, mice, inbred c57bl, reverse transcriptase polymerase chain reaction, serpins, tissue kallikreins]</td>\n",
       "      <td>{respiratory}</td>\n",
       "    </tr>\n",
       "    <tr>\n",
       "      <th>418</th>\n",
       "      <td>26149918</td>\n",
       "      <td>Alzheimer Disease|Brain|Datasets as Topic|Gene Expression|Gene Expression Regulation, Developmental|Genome-Wide Association Study|Humans|Neural Cell Adhesion Molecules|Polymorphism, Single Nucleotide|Signal Transduction</td>\n",
       "      <td>[alzheimer disease, brain, datasets as topic, gene expression, gene expression regulation, developmental, genome-wide association study, humans, neural cell adhesion molecules, polymorphism, single nucleotide, signal transduction]</td>\n",
       "      <td>{mental, nervous}</td>\n",
       "    </tr>\n",
       "    <tr>\n",
       "      <th>421</th>\n",
       "      <td>26149887</td>\n",
       "      <td>Breast Neoplasms|Developing Countries|Early Detection of Cancer|Evidence-Based Medicine|Female|Humans|India|Lip|Male|Mouth Neoplasms|Practice Guidelines as Topic|Prevalence|Risk Assessment|Uterine Cervical Neoplasms</td>\n",
       "      <td>[breast neoplasms, developing countries, early detection of cancer, evidence-based medicine, female, humans, india, lip, male, mouth neoplasms, practice guidelines as topic, prevalence, risk assessment, uterine cervical neoplasms]</td>\n",
       "      <td>{neoplasms}</td>\n",
       "    </tr>\n",
       "    <tr>\n",
       "      <th>422</th>\n",
       "      <td>26149886</td>\n",
       "      <td>Adenocarcinoma|Antineoplastic Agents|Female|Forecasting|Gene Expression Regulation, Neoplastic|Genomics|Humans|Lung Neoplasms|Male|Molecular Targeted Therapy|Neoplasm Invasiveness|Neoplasm Staging|Precision Medicine|Proto-Oncogene Proteins B-raf|Receptor Protein-Tyrosine Kinases|Receptor, Epider...</td>\n",
       "      <td>[adenocarcinoma, antineoplastic agents, female, forecasting, gene expression regulation, neoplastic, genomics, humans, lung neoplasms, male, molecular targeted therapy, neoplasm invasiveness, neoplasm staging, precision medicine, proto-oncogene proteins b-raf, receptor protein-tyrosine kinases, ...</td>\n",
       "      <td>{respiratory, neoplasms}</td>\n",
       "    </tr>\n",
       "    <tr>\n",
       "      <th>423</th>\n",
       "      <td>26149885</td>\n",
       "      <td>Aged|Aged, 80 and over|Antineoplastic Agents|Case-Control Studies|Drug Utilization|Drug-Related Side Effects and Adverse Reactions|Evidence-Based Medicine|Female|Geriatric Assessment|Humans|Male|Neoplasms|Polypharmacy|Quality of Life|Randomized Controlled Trials as Topic|Risk Assessment|Survival...</td>\n",
       "      <td>[aged, aged, 80 and over, antineoplastic agents, case-control studies, drug utilization, drug-related side effects and adverse reactions, evidence-based medicine, female, geriatric assessment, humans, male, neoplasms, polypharmacy, quality of life, randomized controlled trials as topic, risk ass...</td>\n",
       "      <td>{neoplasms}</td>\n",
       "    </tr>\n",
       "    <tr>\n",
       "      <th>424</th>\n",
       "      <td>26149878</td>\n",
       "      <td>Antineoplastic Combined Chemotherapy Protocols|Benzamides|Female|Gastrointestinal Stromal Tumors|Humans|Male|Piperazines|Pyrimidines</td>\n",
       "      <td>[antineoplastic combined chemotherapy protocols, benzamides, female, gastrointestinal stromal tumors, humans, male, piperazines, pyrimidines]</td>\n",
       "      <td>{neoplasms}</td>\n",
       "    </tr>\n",
       "    <tr>\n",
       "      <th>425</th>\n",
       "      <td>26149875</td>\n",
       "      <td>Adenocarcinoma|Carcinoma, Non-Small-Cell Lung|Carcinoma, Squamous Cell|Humans|Small Cell Lung Carcinoma</td>\n",
       "      <td>[adenocarcinoma, carcinoma, non-small-cell lung, carcinoma, squamous cell, humans, small cell lung carcinoma]</td>\n",
       "      <td>{respiratory, neoplasms}</td>\n",
       "    </tr>\n",
       "    <tr>\n",
       "      <th>426</th>\n",
       "      <td>26149871</td>\n",
       "      <td>Antineoplastic Agents|Drugs, Investigational|Humans|Needs Assessment|Neoplasms|Scientific Misconduct|Technology, Pharmaceutical|Translational Medical Research|United States</td>\n",
       "      <td>[antineoplastic agents, drugs, investigational, humans, needs assessment, neoplasms, scientific misconduct, technology, pharmaceutical, translational medical research, united states]</td>\n",
       "      <td>{neoplasms}</td>\n",
       "    </tr>\n",
       "    <tr>\n",
       "      <th>428</th>\n",
       "      <td>26149863</td>\n",
       "      <td>Age Factors|Bangladesh|Child, Preschool|Diarrhea, Infantile|Female|Humans|Infant|Infant Nutrition Disorders|Male|Pneumonia|Risk Factors|Sex Factors|Socioeconomic Factors</td>\n",
       "      <td>[age factors, bangladesh, child, preschool, diarrhea, infantile, female, humans, infant, infant nutrition disorders, male, pneumonia, risk factors, sex factors, socioeconomic factors]</td>\n",
       "      <td>{respiratory}</td>\n",
       "    </tr>\n",
       "    <tr>\n",
       "      <th>434</th>\n",
       "      <td>26149848</td>\n",
       "      <td>Autistic Disorder|Child|Family|Health Resources|Humans|Patient Education as Topic|Physicians, Primary Care|Primary Health Care</td>\n",
       "      <td>[autistic disorder, child, family, health resources, humans, patient education as topic, physicians, primary care, primary health care]</td>\n",
       "      <td>{mental}</td>\n",
       "    </tr>\n",
       "    <tr>\n",
       "      <th>436</th>\n",
       "      <td>26149844</td>\n",
       "      <td>Adolescent|Anemia, Sickle Cell|Asthma|Attention Deficit Disorder with Hyperactivity|Baltimore|Child Behavior Disorders|Comorbidity|Developmental Disabilities|Female|Humans|Learning Disorders|Male|Neurodevelopmental Disorders|Retrospective Studies|Risk Factors|Urban Population</td>\n",
       "      <td>[adolescent, anemia, sickle cell, asthma, attention deficit disorder with hyperactivity, baltimore, child behavior disorders, comorbidity, developmental disabilities, female, humans, learning disorders, male, neurodevelopmental disorders, retrospective studies, risk factors, urban population]</td>\n",
       "      <td>{respiratory, mental, nervous}</td>\n",
       "    </tr>\n",
       "    <tr>\n",
       "      <th>439</th>\n",
       "      <td>26149841</td>\n",
       "      <td>Administration, Inhalation|Adolescent|Adult|Child|Cystic Fibrosis|Cystic Fibrosis Transmembrane Conductance Regulator|Double-Blind Method|Female|Forced Expiratory Volume|Genetic Therapy|Great Britain|Humans|Liposomes|Male|Mutation|Nebulizers and Vaporizers|Plasmids|Young Adult</td>\n",
       "      <td>[administration, inhalation, adolescent, adult, child, cystic fibrosis, cystic fibrosis transmembrane conductance regulator, double-blind method, female, forced expiratory volume, genetic therapy, great britain, humans, liposomes, male, mutation, nebulizers and vaporizers, plasmids, young adult]</td>\n",
       "      <td>{respiratory}</td>\n",
       "    </tr>\n",
       "    <tr>\n",
       "      <th>440</th>\n",
       "      <td>26149839</td>\n",
       "      <td>Anticoagulants|Atrial Fibrillation|Female|Humans|Male|Renal Insufficiency, Chronic|Stroke</td>\n",
       "      <td>[anticoagulants, atrial fibrillation, female, humans, male, renal insufficiency, chronic, stroke]</td>\n",
       "      <td>{circulatory, nervous}</td>\n",
       "    </tr>\n",
       "    <tr>\n",
       "      <th>444</th>\n",
       "      <td>26149807</td>\n",
       "      <td>Animals|Boron Compounds|Boron Neutron Capture Therapy|Brain Neoplasms|Melanoma|Phenylalanine|Translational Medical Research</td>\n",
       "      <td>[animals, boron compounds, boron neutron capture therapy, brain neoplasms, melanoma, phenylalanine, translational medical research]</td>\n",
       "      <td>{neoplasms, nervous}</td>\n",
       "    </tr>\n",
       "    <tr>\n",
       "      <th>447</th>\n",
       "      <td>26149803</td>\n",
       "      <td>Administration, Oral|Aged|Anticoagulants|Atrial Fibrillation|Dabigatran|Emergency Service, Hospital|Female|Humans|Intracranial Hemorrhages|Ischemic Attack, Transient|Male|Patient Admission|Pyrazoles|Pyridones|Retrospective Studies|Rivaroxaban|Stroke|Warfarin</td>\n",
       "      <td>[administration, oral, aged, anticoagulants, atrial fibrillation, dabigatran, emergency service, hospital, female, humans, intracranial hemorrhages, ischemic attack, transient, male, patient admission, pyrazoles, pyridones, retrospective studies, rivaroxaban, stroke, warfarin]</td>\n",
       "      <td>{circulatory, nervous}</td>\n",
       "    </tr>\n",
       "    <tr>\n",
       "      <th>460</th>\n",
       "      <td>26149713</td>\n",
       "      <td>Brain|Developmental Disabilities|Gene Expression Profiling|Gene Regulatory Networks|High-Throughput Screening Assays|Humans|Models, Neurological|Neurobiology|Neurodegenerative Diseases|Systems Biology</td>\n",
       "      <td>[brain, developmental disabilities, gene expression profiling, gene regulatory networks, high-throughput screening assays, humans, models, neurological, neurobiology, neurodegenerative diseases, systems biology]</td>\n",
       "      <td>{mental, nervous}</td>\n",
       "    </tr>\n",
       "    <tr>\n",
       "      <th>461</th>\n",
       "      <td>26149712</td>\n",
       "      <td>Aged|Antineoplastic Combined Chemotherapy Protocols|Bortezomib|Dexamethasone|Disease Progression|Disease-Free Survival|Drug Resistance, Neoplasm|Female|Humans|Male|Multiple Myeloma|Neoplasm Recurrence, Local|Quality of Life|Thalidomide</td>\n",
       "      <td>[aged, antineoplastic combined chemotherapy protocols, bortezomib, dexamethasone, disease progression, disease-free survival, drug resistance, neoplasm, female, humans, male, multiple myeloma, neoplasm recurrence, local, quality of life, thalidomide]</td>\n",
       "      <td>{circulatory, neoplasms}</td>\n",
       "    </tr>\n",
       "    <tr>\n",
       "      <th>469</th>\n",
       "      <td>26149680</td>\n",
       "      <td>Adult|Albuminuria|Cardiovascular Diseases|Cause of Death|Creatinine|Female|Humans|Hypertension|Male|Middle Aged|Mortality|Multivariate Analysis|Nutrition Surveys|Periodontal Diseases|Periodontitis|Prevalence|Proportional Hazards Models|Prospective Studies|Renal Insufficiency, Chronic|United States</td>\n",
       "      <td>[adult, albuminuria, cardiovascular diseases, cause of death, creatinine, female, humans, hypertension, male, middle aged, mortality, multivariate analysis, nutrition surveys, periodontal diseases, periodontitis, prevalence, proportional hazards models, prospective studies, renal insufficiency, ...</td>\n",
       "      <td>{circulatory}</td>\n",
       "    </tr>\n",
       "    <tr>\n",
       "      <th>470</th>\n",
       "      <td>26149675</td>\n",
       "      <td>Behavior, Addictive|Dietary Sucrose|Feeding Behavior|Food|Humans|Hyperphagia|Substance-Related Disorders</td>\n",
       "      <td>[behavior, addictive, dietary sucrose, feeding behavior, food, humans, hyperphagia, substance-related disorders]</td>\n",
       "      <td>{mental}</td>\n",
       "    </tr>\n",
       "    <tr>\n",
       "      <th>471</th>\n",
       "      <td>26149674</td>\n",
       "      <td>Aged, 80 and over|Female|Heart Block|Humans|Plasmapheresis|Purpura, Thrombotic Thrombocytopenic</td>\n",
       "      <td>[aged, 80 and over, female, heart block, humans, plasmapheresis, purpura, thrombotic thrombocytopenic]</td>\n",
       "      <td>{circulatory}</td>\n",
       "    </tr>\n",
       "    <tr>\n",
       "      <th>475</th>\n",
       "      <td>26149665</td>\n",
       "      <td>Adolescent|Adult|Adult Survivors of Child Abuse|Adult Survivors of Child Adverse Events|Antisocial Personality Disorder|Child Abuse|Criminal Behavior|Female|Health Status|Humans|Male|Mental Disorders|Psychological Trauma|Suicide|Young Adult</td>\n",
       "      <td>[adolescent, adult, adult survivors of child abuse, adult survivors of child adverse events, antisocial personality disorder, child abuse, criminal behavior, female, health status, humans, male, mental disorders, psychological trauma, suicide, young adult]</td>\n",
       "      <td>{mental}</td>\n",
       "    </tr>\n",
       "    <tr>\n",
       "      <th>483</th>\n",
       "      <td>26149613</td>\n",
       "      <td>Androgens|Cardiovascular Diseases|Humans|Male|Testosterone</td>\n",
       "      <td>[androgens, cardiovascular diseases, humans, male, testosterone]</td>\n",
       "      <td>{circulatory}</td>\n",
       "    </tr>\n",
       "    <tr>\n",
       "      <th>488</th>\n",
       "      <td>26149602</td>\n",
       "      <td>Antineoplastic Agents|Antineoplastic Combined Chemotherapy Protocols|Bevacizumab|Camptothecin|Colorectal Neoplasms|Drug Delivery Systems|Fluorouracil|Hepatic Artery|Humans|Leucovorin|Liver Neoplasms|Male|Middle Aged|Organoplatinum Compounds|Treatment Outcome</td>\n",
       "      <td>[antineoplastic agents, antineoplastic combined chemotherapy protocols, bevacizumab, camptothecin, colorectal neoplasms, drug delivery systems, fluorouracil, hepatic artery, humans, leucovorin, liver neoplasms, male, middle aged, organoplatinum compounds, treatment outcome]</td>\n",
       "      <td>{neoplasms}</td>\n",
       "    </tr>\n",
       "    <tr>\n",
       "      <th>491</th>\n",
       "      <td>26149589</td>\n",
       "      <td>Endoscopy|Humans|Nose Diseases</td>\n",
       "      <td>[endoscopy, humans, nose diseases]</td>\n",
       "      <td>{respiratory}</td>\n",
       "    </tr>\n",
       "    <tr>\n",
       "      <th>493</th>\n",
       "      <td>26149585</td>\n",
       "      <td>Animals|Asthma|Dermatitis, Atopic|Humans|Rhinitis, Allergic|Sublingual Immunotherapy|Treatment Outcome|United States|United States Food and Drug Administration</td>\n",
       "      <td>[animals, asthma, dermatitis, atopic, humans, rhinitis, allergic, sublingual immunotherapy, treatment outcome, united states, united states food and drug administration]</td>\n",
       "      <td>{respiratory}</td>\n",
       "    </tr>\n",
       "  </tbody>\n",
       "</table>\n",
       "<p>156 rows × 4 columns</p>\n",
       "</div>"
      ],
      "text/plain": [
       "         PMID  \\\n",
       "0    26151925   \n",
       "7    26151900   \n",
       "11   26151864   \n",
       "12   26151861   \n",
       "13   26151850   \n",
       "14   26151848   \n",
       "16   26151842   \n",
       "17   26151840   \n",
       "18   26151827   \n",
       "20   26151821   \n",
       "23   26151804   \n",
       "25   26151762   \n",
       "28   26151751   \n",
       "33   26151738   \n",
       "36   26151718   \n",
       "38   26151676   \n",
       "50   26151650   \n",
       "58   26151614   \n",
       "61   26151610   \n",
       "68   26151586   \n",
       "69   26151585   \n",
       "70   26151584   \n",
       "71   26151582   \n",
       "73   26151580   \n",
       "74   26151579   \n",
       "83   26151527   \n",
       "85   26151524   \n",
       "89   26151518   \n",
       "90   26151516   \n",
       "91   26151515   \n",
       "..        ...   \n",
       "386  26150078   \n",
       "393  26150023   \n",
       "394  26150022   \n",
       "395  26150014   \n",
       "398  26149998   \n",
       "406  26149981   \n",
       "418  26149918   \n",
       "421  26149887   \n",
       "422  26149886   \n",
       "423  26149885   \n",
       "424  26149878   \n",
       "425  26149875   \n",
       "426  26149871   \n",
       "428  26149863   \n",
       "434  26149848   \n",
       "436  26149844   \n",
       "439  26149841   \n",
       "440  26149839   \n",
       "444  26149807   \n",
       "447  26149803   \n",
       "460  26149713   \n",
       "461  26149712   \n",
       "469  26149680   \n",
       "470  26149675   \n",
       "471  26149674   \n",
       "475  26149665   \n",
       "483  26149613   \n",
       "488  26149602   \n",
       "491  26149589   \n",
       "493  26149585   \n",
       "\n",
       "                                                                                                                                                                                                                                                                                                            mesh  \\\n",
       "0                                                                                                             Adult|Amygdala|Case-Control Studies|Female|Humans|Male|Neuroimaging|Neurokinin-1 Receptor Antagonists|Phobic Disorders|Piperidines|Positron-Emission Tomography|Receptors, Neurokinin-1|Tetrazoles   \n",
       "7                                                                              Adult|Aged|Aged, 80 and over|Anomia|Cerebral Infarction|Female|Humans|Male|Mental Recall|Middle Aged|Narration|Neuropsychological Tests|Pattern Recognition, Visual|Psychometrics|Reproducibility of Results|Semantics|Vocabulary   \n",
       "11                                                                                    Cross-Sectional Studies|Female|Hip Fractures|Hospital Administration|Hospitals|Humans|Male|Myocardial Infarction|Patient Participation|Patient Satisfaction|Patients|Quality Improvement|Stroke|Surveys and Questionnaires   \n",
       "12                                                                            Analysis of Variance|Attitude of Health Personnel|Cognitive Therapy|Education, Continuing|Evidence-Based Practice|Guideline Adherence|Health Personnel|Humans|Mississippi|Practice Guidelines as Topic|Substance-Related Disorders   \n",
       "13                                                                                                                                                                                                                        Animals|History, 20th Century|History, 21st Century|Humans|Neoplasms|Photochemotherapy   \n",
       "14                                                                                                                                                  Animals|Behavior, Animal|Cerebral Cortex|Chemokines|Cytokines|Hippocampus|Kynurenine|Lupus Vasculitis, Central Nervous System|Memory|Mice|Mice, Inbred C57BL   \n",
       "16                                                                                            Animals|Chromosomes, Human|Collagen Type III|Disease Models, Animal|Fibrosis|Gene Regulatory Networks|Humans|Lung Diseases|Mice|Quantitative Trait Loci|Species Specificity|Synteny|Translational Medical Research   \n",
       "17                                                                                                                                                                    Algorithms|Brain|Brain Neoplasms|Humans|Image Processing, Computer-Assisted|Magnetic Resonance Imaging|Oligodendroglioma|Phantoms, Imaging   \n",
       "18                                                                                                                      Angiotensin II|Animals|Blood Pressure|Disease Models, Animal|Gene Knockout Techniques|Hypertension|Kidney Tubules, Collecting|Male|Mice|Receptor, Bradykinin B2|Sodium Chloride, Dietary   \n",
       "20                                                                                                                                                   Case-Control Studies|Colorectal Neoplasms|Genetic Predisposition to Disease|Genome-Wide Association Study|Humans|Odds Ratio|Polymorphism, Single Nucleotide   \n",
       "23                                                                                                                                                                                                     Diagnostic and Statistical Manual of Mental Disorders|Humans|Personality Assessment|Personality Disorders   \n",
       "25                                                                                                               Acinar Cells|Adenocarcinoma|Animals|Carcinoma in Situ|Carcinoma, Pancreatic Ductal|Cell Transdifferentiation|Disease Models, Animal|Gene Expression Profiling|Humans|Mice|Transcription Factors   \n",
       "28                                                                                                                                                                      Adult|Aged|Aged, 80 and over|Aspirin|Cardiovascular Diseases|Female|Humans|Male|Middle Aged|Neoplasms|Primary Prevention|Risk Assessment   \n",
       "33                                                                               Adolescent|Adult|Aged|Attention Deficit Disorder with Hyperactivity|Caregivers|Central Nervous System Stimulants|Child|Female|Humans|Male|Middle Aged|Stress, Psychological|Surveys and Questionnaires|Time Factors|Young Adult   \n",
       "36                                                                                                                                                                        Animals|Diet, High-Fat|Dietary Sucrose|Female|Male|Mice|Stroke Volume|Systole|Ventricular Dysfunction, Left|Ventricular Function, Left   \n",
       "38   Abiraterone Acetate|Adult|Aged|Aged, 80 and over|Antineoplastic Agents|Disease Progression|Disease-Free Survival|Dose-Response Relationship, Drug|Double-Blind Method|Drug Therapy, Combination|Follow-Up Studies|Glucocorticoids|Humans|Male|Middle Aged|Neoplasm Metastasis|Prednisone|Prostatic Neopl...   \n",
       "50                                                                                                                                                                           Air Pollutants|Air Pollution|Animals|Apolipoproteins E|Atherosclerosis|Inhalation Exposure|Mice|Oxidative Stress|Particulate Matter   \n",
       "58                                                                                                                 Child Development|Child, Preschool|Cognition Disorders|Executive Function|Female|Humans|Inhibition (Psychology)|Male|Memory, Short-Term|Neuropsychological Tests|Schools|Sleep Wake Disorders   \n",
       "61                                                                                                                                                                                       Adolescent|Attention|Attention Deficit Disorder with Hyperactivity|Female|Humans|Hyperkinesis|Male|Sleep Wake Disorders   \n",
       "68                                                                                             Arizona|Cohort Studies|Developmental Disabilities|Environmental Exposure|Female|Humans|Indians, North American|Metals|Mining|Pregnancy|Prenatal Exposure Delayed Effects|Public Health Surveillance|United States   \n",
       "69                                                                                                                                                 Adolescent|Adult|Alcohol Drinking|Alcoholism|Comorbidity|Female|Humans|Male|Mental Disorders|Prevalence|Substance-Related Disorders|United States|Young Adult   \n",
       "70                                                                                                                                                                                               Adult|Anxiety Disorders|Asthma|Comorbidity|Female|Humans|Male|Motivation|Smoking Cessation|Tobacco Use Disorder   \n",
       "71                                                                               Adolescent|Adult|Aged|California|Cannabinoids|Cannabis|Comorbidity|Dreams|Female|Humans|Hypnotics and Sedatives|Male|Marijuana Abuse|Medical Marijuana|Middle Aged|Sleep|Sleep Initiation and Maintenance Disorders|Young Adult   \n",
       "73                                                               Adult|Alcoholism|Cross-Sectional Studies|Employment|Family Conflict|Female|Humans|Male|Mental Disorders|Pennsylvania|Prevalence|Severity of Illness Index|Sleep Initiation and Maintenance Disorders|Social Behavior|Surveys and Questionnaires   \n",
       "74                                                                                                                                                        Adolescent|Adult|Age Factors|Age of Onset|Child|Female|Humans|Male|Middle Aged|Risk Factors|Sex Factors|Tobacco Use Disorder|United States|Young Adult   \n",
       "83                                                                                                                                                                                                                  Abdominal Pain|Adult|Appendix|Cecal Diseases|Humans|Male|Mucocele|Tomography, X-Ray Computed   \n",
       "85                                                                                                                                                                 Aorta, Thoracic|Endovascular Procedures|Humans|Thoracic Surgical Procedures|Treatment Outcome|Vascular System Injuries|Wounds, Nonpenetrating   \n",
       "89                                                              Abdominal Injuries|Adult|Age Factors|Aged|Aged, 80 and over|Humans|Hypotension|Hypovolemia|Injury Severity Score|Middle Aged|Retrospective Studies|Shock, Traumatic|Tomography, X-Ray Computed|Trauma Centers|Wounds, Nonpenetrating|Young Adult   \n",
       "90   Adolescent|Age Factors|Child|Child, Preschool|Craniocerebral Trauma|Critical Care|Databases, Factual|Female|Glasgow Coma Scale|Humans|Incidence|Infant|Infant, Newborn|Injury Severity Score|Length of Stay|Male|Neck Injuries|Pneumonia, Ventilator-Associated|Respiration, Artificial|Retrospective St...   \n",
       "91                                Adolescent|Child|Child, Preschool|Craniocerebral Trauma|Female|Glasgow Coma Scale|Hemorrhage|Humans|Hypotension|Incidence|Infant|Infant, Newborn|Injury Severity Score|Male|Registries|Retrospective Studies|Risk Assessment|Spinal Cord Injuries|Trauma Centers|United States   \n",
       "..                                                                                                                                                                                                                                                                                                           ...   \n",
       "386                                                                                   Brain|Child Abuse|Child, Preschool|Craniocerebral Trauma|Female|Humans|Infant|Infant, Newborn|Magnetic Resonance Angiography|Magnetic Resonance Imaging|Male|Phlebography|Reproducibility of Results|Retrospective Studies   \n",
       "393  Abdominal Pain|Adolescent|Adult|Child|Child, Preschool|Colitis, Ischemic|Female|Gastrointestinal Hemorrhage|Graft Survival|Graft vs Host Disease|Hematopoietic Stem Cell Transplantation|Hemoglobinuria, Paroxysmal|Humans|Infant|Intestinal Mucosa|Intestines|Lymphohistiocytosis, Hemophagocytic|Male|...   \n",
       "394  Antibiotic Prophylaxis|Antifungal Agents|Antineoplastic Combined Chemotherapy Protocols|Bacteremia|Clostridium Infections|Clostridium difficile|Combined Modality Therapy|Drug Resistance, Microbial|Drug Resistance, Multiple, Bacterial|Enterobacteriaceae|Enterobacteriaceae Infections|Febrile Neutr...   \n",
       "395                                                                                                              Aged|Aged, 80 and over|Colorectal Neoplasms|Early Detection of Cancer|Healthcare Disparities|Humans|Louisiana|Middle Aged|Models, Statistical|Mortality|New Jersey|Risk Assessment|Risk Factors   \n",
       "398                                                                                                                                    Antiviral Agents|Capsid|Disease Outbreaks|Enterovirus D, Human|Enterovirus Infections|Humans|Microbial Sensitivity Tests|Protease Inhibitors|Respiratory Tract Infections   \n",
       "406                                                                 Animals|Antiviral Agents|Blotting, Western|Cell Line|Dogs|Enzyme-Linked Immunosorbent Assay|Hemagglutinins, Viral|Humans|Influenza, Human|Mice|Mice, Inbred C57BL|Reverse Transcriptase Polymerase Chain Reaction|Serpins|Tissue Kallikreins   \n",
       "418                                                                                  Alzheimer Disease|Brain|Datasets as Topic|Gene Expression|Gene Expression Regulation, Developmental|Genome-Wide Association Study|Humans|Neural Cell Adhesion Molecules|Polymorphism, Single Nucleotide|Signal Transduction   \n",
       "421                                                                                      Breast Neoplasms|Developing Countries|Early Detection of Cancer|Evidence-Based Medicine|Female|Humans|India|Lip|Male|Mouth Neoplasms|Practice Guidelines as Topic|Prevalence|Risk Assessment|Uterine Cervical Neoplasms   \n",
       "422  Adenocarcinoma|Antineoplastic Agents|Female|Forecasting|Gene Expression Regulation, Neoplastic|Genomics|Humans|Lung Neoplasms|Male|Molecular Targeted Therapy|Neoplasm Invasiveness|Neoplasm Staging|Precision Medicine|Proto-Oncogene Proteins B-raf|Receptor Protein-Tyrosine Kinases|Receptor, Epider...   \n",
       "423  Aged|Aged, 80 and over|Antineoplastic Agents|Case-Control Studies|Drug Utilization|Drug-Related Side Effects and Adverse Reactions|Evidence-Based Medicine|Female|Geriatric Assessment|Humans|Male|Neoplasms|Polypharmacy|Quality of Life|Randomized Controlled Trials as Topic|Risk Assessment|Survival...   \n",
       "424                                                                                                                                                                         Antineoplastic Combined Chemotherapy Protocols|Benzamides|Female|Gastrointestinal Stromal Tumors|Humans|Male|Piperazines|Pyrimidines   \n",
       "425                                                                                                                                                                                                      Adenocarcinoma|Carcinoma, Non-Small-Cell Lung|Carcinoma, Squamous Cell|Humans|Small Cell Lung Carcinoma   \n",
       "426                                                                                                                                 Antineoplastic Agents|Drugs, Investigational|Humans|Needs Assessment|Neoplasms|Scientific Misconduct|Technology, Pharmaceutical|Translational Medical Research|United States   \n",
       "428                                                                                                                                    Age Factors|Bangladesh|Child, Preschool|Diarrhea, Infantile|Female|Humans|Infant|Infant Nutrition Disorders|Male|Pneumonia|Risk Factors|Sex Factors|Socioeconomic Factors   \n",
       "434                                                                                                                                                                               Autistic Disorder|Child|Family|Health Resources|Humans|Patient Education as Topic|Physicians, Primary Care|Primary Health Care   \n",
       "436                         Adolescent|Anemia, Sickle Cell|Asthma|Attention Deficit Disorder with Hyperactivity|Baltimore|Child Behavior Disorders|Comorbidity|Developmental Disabilities|Female|Humans|Learning Disorders|Male|Neurodevelopmental Disorders|Retrospective Studies|Risk Factors|Urban Population   \n",
       "439                        Administration, Inhalation|Adolescent|Adult|Child|Cystic Fibrosis|Cystic Fibrosis Transmembrane Conductance Regulator|Double-Blind Method|Female|Forced Expiratory Volume|Genetic Therapy|Great Britain|Humans|Liposomes|Male|Mutation|Nebulizers and Vaporizers|Plasmids|Young Adult   \n",
       "440                                                                                                                                                                                                                    Anticoagulants|Atrial Fibrillation|Female|Humans|Male|Renal Insufficiency, Chronic|Stroke   \n",
       "444                                                                                                                                                                                  Animals|Boron Compounds|Boron Neutron Capture Therapy|Brain Neoplasms|Melanoma|Phenylalanine|Translational Medical Research   \n",
       "447                                           Administration, Oral|Aged|Anticoagulants|Atrial Fibrillation|Dabigatran|Emergency Service, Hospital|Female|Humans|Intracranial Hemorrhages|Ischemic Attack, Transient|Male|Patient Admission|Pyrazoles|Pyridones|Retrospective Studies|Rivaroxaban|Stroke|Warfarin   \n",
       "460                                                                                                     Brain|Developmental Disabilities|Gene Expression Profiling|Gene Regulatory Networks|High-Throughput Screening Assays|Humans|Models, Neurological|Neurobiology|Neurodegenerative Diseases|Systems Biology   \n",
       "461                                                                  Aged|Antineoplastic Combined Chemotherapy Protocols|Bortezomib|Dexamethasone|Disease Progression|Disease-Free Survival|Drug Resistance, Neoplasm|Female|Humans|Male|Multiple Myeloma|Neoplasm Recurrence, Local|Quality of Life|Thalidomide   \n",
       "469   Adult|Albuminuria|Cardiovascular Diseases|Cause of Death|Creatinine|Female|Humans|Hypertension|Male|Middle Aged|Mortality|Multivariate Analysis|Nutrition Surveys|Periodontal Diseases|Periodontitis|Prevalence|Proportional Hazards Models|Prospective Studies|Renal Insufficiency, Chronic|United States   \n",
       "470                                                                                                                                                                                                     Behavior, Addictive|Dietary Sucrose|Feeding Behavior|Food|Humans|Hyperphagia|Substance-Related Disorders   \n",
       "471                                                                                                                                                                                                              Aged, 80 and over|Female|Heart Block|Humans|Plasmapheresis|Purpura, Thrombotic Thrombocytopenic   \n",
       "475                                                             Adolescent|Adult|Adult Survivors of Child Abuse|Adult Survivors of Child Adverse Events|Antisocial Personality Disorder|Child Abuse|Criminal Behavior|Female|Health Status|Humans|Male|Mental Disorders|Psychological Trauma|Suicide|Young Adult   \n",
       "483                                                                                                                                                                                                                                                   Androgens|Cardiovascular Diseases|Humans|Male|Testosterone   \n",
       "488                                           Antineoplastic Agents|Antineoplastic Combined Chemotherapy Protocols|Bevacizumab|Camptothecin|Colorectal Neoplasms|Drug Delivery Systems|Fluorouracil|Hepatic Artery|Humans|Leucovorin|Liver Neoplasms|Male|Middle Aged|Organoplatinum Compounds|Treatment Outcome   \n",
       "491                                                                                                                                                                                                                                                                               Endoscopy|Humans|Nose Diseases   \n",
       "493                                                                                                                                              Animals|Asthma|Dermatitis, Atopic|Humans|Rhinitis, Allergic|Sublingual Immunotherapy|Treatment Outcome|United States|United States Food and Drug Administration   \n",
       "\n",
       "                                                                                                                                                                                                                                                                                                       cleantext  \\\n",
       "0                                                                                               [adult, amygdala, case-control studies, female, humans, male, neuroimaging, neurokinin-1 receptor antagonists, phobic disorders, piperidines, positron-emission tomography, receptors, neurokinin-1, tetrazoles]   \n",
       "7                                                            [adult, aged, aged, 80 and over, anomia, cerebral infarction, female, humans, male, mental recall, middle aged, narration, neuropsychological tests, pattern recognition, visual, psychometrics, reproducibility of results, semantics, vocabulary]   \n",
       "11                                                                     [cross-sectional studies, female, hip fractures, hospital administration, hospitals, humans, male, myocardial infarction, patient participation, patient satisfaction, patients, quality improvement, stroke, surveys and questionnaires]   \n",
       "12                                                                [analysis of variance, attitude of health personnel, cognitive therapy, education, continuing, evidence-based practice, guideline adherence, health personnel, humans, mississippi, practice guidelines as topic, substance-related disorders]   \n",
       "13                                                                                                                                                                                                                 [animals, history, 20th century, history, 21st century, humans, neoplasms, photochemotherapy]   \n",
       "14                                                                                                                                      [animals, behavior, animal, cerebral cortex, chemokines, cytokines, hippocampus, kynurenine, lupus vasculitis, central nervous system, memory, mice, mice, inbred c57bl]   \n",
       "16                                                                              [animals, chromosomes, human, collagen type iii, disease models, animal, fibrosis, gene regulatory networks, humans, lung diseases, mice, quantitative trait loci, species specificity, synteny, translational medical research]   \n",
       "17                                                                                                                                                           [algorithms, brain, brain neoplasms, humans, image processing, computer-assisted, magnetic resonance imaging, oligodendroglioma, phantoms, imaging]   \n",
       "18                                                                                                          [angiotensin ii, animals, blood pressure, disease models, animal, gene knockout techniques, hypertension, kidney tubules, collecting, male, mice, receptor, bradykinin b2, sodium chloride, dietary]   \n",
       "20                                                                                                                                           [case-control studies, colorectal neoplasms, genetic predisposition to disease, genome-wide association study, humans, odds ratio, polymorphism, single nucleotide]   \n",
       "23                                                                                                                                                                                                [diagnostic and statistical manual of mental disorders, humans, personality assessment, personality disorders]   \n",
       "25                                                                                                   [acinar cells, adenocarcinoma, animals, carcinoma in situ, carcinoma, pancreatic ductal, cell transdifferentiation, disease models, animal, gene expression profiling, humans, mice, transcription factors]   \n",
       "28                                                                                                                                                         [adult, aged, aged, 80 and over, aspirin, cardiovascular diseases, female, humans, male, middle aged, neoplasms, primary prevention, risk assessment]   \n",
       "33                                                               [adolescent, adult, aged, attention deficit disorder with hyperactivity, caregivers, central nervous system stimulants, child, female, humans, male, middle aged, stress, psychological, surveys and questionnaires, time factors, young adult]   \n",
       "36                                                                                                                                                             [animals, diet, high-fat, dietary sucrose, female, male, mice, stroke volume, systole, ventricular dysfunction, left, ventricular function, left]   \n",
       "38   [abiraterone acetate, adult, aged, aged, 80 and over, antineoplastic agents, disease progression, disease-free survival, dose-response relationship, drug, double-blind method, drug therapy, combination, follow-up studies, glucocorticoids, humans, male, middle aged, neoplasm metastasis, prednison...   \n",
       "50                                                                                                                                                                 [air pollutants, air pollution, animals, apolipoproteins e, atherosclerosis, inhalation exposure, mice, oxidative stress, particulate matter]   \n",
       "58                                                                                                    [child development, child, preschool, cognition disorders, executive function, female, humans, inhibition (psychology), male, memory, short-term, neuropsychological tests, schools, sleep wake disorders]   \n",
       "61                                                                                                                                                                              [adolescent, attention, attention deficit disorder with hyperactivity, female, humans, hyperkinesis, male, sleep wake disorders]   \n",
       "68                                                                               [arizona, cohort studies, developmental disabilities, environmental exposure, female, humans, indians, north american, metals, mining, pregnancy, prenatal exposure delayed effects, public health surveillance, united states]   \n",
       "69                                                                                                                                   [adolescent, adult, alcohol drinking, alcoholism, comorbidity, female, humans, male, mental disorders, prevalence, substance-related disorders, united states, young adult]   \n",
       "70                                                                                                                                                                                    [adult, anxiety disorders, asthma, comorbidity, female, humans, male, motivation, smoking cessation, tobacco use disorder]   \n",
       "71                                                            [adolescent, adult, aged, california, cannabinoids, cannabis, comorbidity, dreams, female, humans, hypnotics and sedatives, male, marijuana abuse, medical marijuana, middle aged, sleep, sleep initiation and maintenance disorders, young adult]   \n",
       "73                                               [adult, alcoholism, cross-sectional studies, employment, family conflict, female, humans, male, mental disorders, pennsylvania, prevalence, severity of illness index, sleep initiation and maintenance disorders, social behavior, surveys and questionnaires]   \n",
       "74                                                                                                                                         [adolescent, adult, age factors, age of onset, child, female, humans, male, middle aged, risk factors, sex factors, tobacco use disorder, united states, young adult]   \n",
       "83                                                                                                                                                                                                         [abdominal pain, adult, appendix, cecal diseases, humans, male, mucocele, tomography, x-ray computed]   \n",
       "85                                                                                                                                                         [aorta, thoracic, endovascular procedures, humans, thoracic surgical procedures, treatment outcome, vascular system injuries, wounds, nonpenetrating]   \n",
       "89                                             [abdominal injuries, adult, age factors, aged, aged, 80 and over, humans, hypotension, hypovolemia, injury severity score, middle aged, retrospective studies, shock, traumatic, tomography, x-ray computed, trauma centers, wounds, nonpenetrating, young adult]   \n",
       "90   [adolescent, age factors, child, child, preschool, craniocerebral trauma, critical care, databases, factual, female, glasgow coma scale, humans, incidence, infant, infant, newborn, injury severity score, length of stay, male, neck injuries, pneumonia, ventilator-associated, respiration, artifici...   \n",
       "91           [adolescent, child, child, preschool, craniocerebral trauma, female, glasgow coma scale, hemorrhage, humans, hypotension, incidence, infant, infant, newborn, injury severity score, male, registries, retrospective studies, risk assessment, spinal cord injuries, trauma centers, united states]   \n",
       "..                                                                                                                                                                                                                                                                                                           ...   \n",
       "386                                                                    [brain, child abuse, child, preschool, craniocerebral trauma, female, humans, infant, infant, newborn, magnetic resonance angiography, magnetic resonance imaging, male, phlebography, reproducibility of results, retrospective studies]   \n",
       "393  [abdominal pain, adolescent, adult, child, child, preschool, colitis, ischemic, female, gastrointestinal hemorrhage, graft survival, graft vs host disease, hematopoietic stem cell transplantation, hemoglobinuria, paroxysmal, humans, infant, intestinal mucosa, intestines, lymphohistiocytosis, hem...   \n",
       "394  [antibiotic prophylaxis, antifungal agents, antineoplastic combined chemotherapy protocols, bacteremia, clostridium infections, clostridium difficile, combined modality therapy, drug resistance, microbial, drug resistance, multiple, bacterial, enterobacteriaceae, enterobacteriaceae infections, f...   \n",
       "395                                                                                                [aged, aged, 80 and over, colorectal neoplasms, early detection of cancer, healthcare disparities, humans, louisiana, middle aged, models, statistical, mortality, new jersey, risk assessment, risk factors]   \n",
       "398                                                                                                                          [antiviral agents, capsid, disease outbreaks, enterovirus d, human, enterovirus infections, humans, microbial sensitivity tests, protease inhibitors, respiratory tract infections]   \n",
       "406                                                  [animals, antiviral agents, blotting, western, cell line, dogs, enzyme-linked immunosorbent assay, hemagglutinins, viral, humans, influenza, human, mice, mice, inbred c57bl, reverse transcriptase polymerase chain reaction, serpins, tissue kallikreins]   \n",
       "418                                                                       [alzheimer disease, brain, datasets as topic, gene expression, gene expression regulation, developmental, genome-wide association study, humans, neural cell adhesion molecules, polymorphism, single nucleotide, signal transduction]   \n",
       "421                                                                       [breast neoplasms, developing countries, early detection of cancer, evidence-based medicine, female, humans, india, lip, male, mouth neoplasms, practice guidelines as topic, prevalence, risk assessment, uterine cervical neoplasms]   \n",
       "422  [adenocarcinoma, antineoplastic agents, female, forecasting, gene expression regulation, neoplastic, genomics, humans, lung neoplasms, male, molecular targeted therapy, neoplasm invasiveness, neoplasm staging, precision medicine, proto-oncogene proteins b-raf, receptor protein-tyrosine kinases, ...   \n",
       "423  [aged, aged, 80 and over, antineoplastic agents, case-control studies, drug utilization, drug-related side effects and adverse reactions, evidence-based medicine, female, geriatric assessment, humans, male, neoplasms, polypharmacy, quality of life, randomized controlled trials as topic, risk ass...   \n",
       "424                                                                                                                                                                [antineoplastic combined chemotherapy protocols, benzamides, female, gastrointestinal stromal tumors, humans, male, piperazines, pyrimidines]   \n",
       "425                                                                                                                                                                                                [adenocarcinoma, carcinoma, non-small-cell lung, carcinoma, squamous cell, humans, small cell lung carcinoma]   \n",
       "426                                                                                                                       [antineoplastic agents, drugs, investigational, humans, needs assessment, neoplasms, scientific misconduct, technology, pharmaceutical, translational medical research, united states]   \n",
       "428                                                                                                                      [age factors, bangladesh, child, preschool, diarrhea, infantile, female, humans, infant, infant nutrition disorders, male, pneumonia, risk factors, sex factors, socioeconomic factors]   \n",
       "434                                                                                                                                                                      [autistic disorder, child, family, health resources, humans, patient education as topic, physicians, primary care, primary health care]   \n",
       "436        [adolescent, anemia, sickle cell, asthma, attention deficit disorder with hyperactivity, baltimore, child behavior disorders, comorbidity, developmental disabilities, female, humans, learning disorders, male, neurodevelopmental disorders, retrospective studies, risk factors, urban population]   \n",
       "439     [administration, inhalation, adolescent, adult, child, cystic fibrosis, cystic fibrosis transmembrane conductance regulator, double-blind method, female, forced expiratory volume, genetic therapy, great britain, humans, liposomes, male, mutation, nebulizers and vaporizers, plasmids, young adult]   \n",
       "440                                                                                                                                                                                                            [anticoagulants, atrial fibrillation, female, humans, male, renal insufficiency, chronic, stroke]   \n",
       "444                                                                                                                                                                          [animals, boron compounds, boron neutron capture therapy, brain neoplasms, melanoma, phenylalanine, translational medical research]   \n",
       "447                        [administration, oral, aged, anticoagulants, atrial fibrillation, dabigatran, emergency service, hospital, female, humans, intracranial hemorrhages, ischemic attack, transient, male, patient admission, pyrazoles, pyridones, retrospective studies, rivaroxaban, stroke, warfarin]   \n",
       "460                                                                                          [brain, developmental disabilities, gene expression profiling, gene regulatory networks, high-throughput screening assays, humans, models, neurological, neurobiology, neurodegenerative diseases, systems biology]   \n",
       "461                                                   [aged, antineoplastic combined chemotherapy protocols, bortezomib, dexamethasone, disease progression, disease-free survival, drug resistance, neoplasm, female, humans, male, multiple myeloma, neoplasm recurrence, local, quality of life, thalidomide]   \n",
       "469  [adult, albuminuria, cardiovascular diseases, cause of death, creatinine, female, humans, hypertension, male, middle aged, mortality, multivariate analysis, nutrition surveys, periodontal diseases, periodontitis, prevalence, proportional hazards models, prospective studies, renal insufficiency, ...   \n",
       "470                                                                                                                                                                                             [behavior, addictive, dietary sucrose, feeding behavior, food, humans, hyperphagia, substance-related disorders]   \n",
       "471                                                                                                                                                                                                       [aged, 80 and over, female, heart block, humans, plasmapheresis, purpura, thrombotic thrombocytopenic]   \n",
       "475                                             [adolescent, adult, adult survivors of child abuse, adult survivors of child adverse events, antisocial personality disorder, child abuse, criminal behavior, female, health status, humans, male, mental disorders, psychological trauma, suicide, young adult]   \n",
       "483                                                                                                                                                                                                                                             [androgens, cardiovascular diseases, humans, male, testosterone]   \n",
       "488                           [antineoplastic agents, antineoplastic combined chemotherapy protocols, bevacizumab, camptothecin, colorectal neoplasms, drug delivery systems, fluorouracil, hepatic artery, humans, leucovorin, liver neoplasms, male, middle aged, organoplatinum compounds, treatment outcome]   \n",
       "491                                                                                                                                                                                                                                                                           [endoscopy, humans, nose diseases]   \n",
       "493                                                                                                                                    [animals, asthma, dermatitis, atopic, humans, rhinitis, allergic, sublingual immunotherapy, treatment outcome, united states, united states food and drug administration]   \n",
       "\n",
       "                        mesh_groups  \n",
       "0                          {mental}  \n",
       "7            {circulatory, nervous}  \n",
       "11           {circulatory, nervous}  \n",
       "12                         {mental}  \n",
       "13                      {neoplasms}  \n",
       "14           {circulatory, nervous}  \n",
       "16                    {respiratory}  \n",
       "17             {neoplasms, nervous}  \n",
       "18                    {circulatory}  \n",
       "20                      {neoplasms}  \n",
       "23                         {mental}  \n",
       "25                      {neoplasms}  \n",
       "28         {circulatory, neoplasms}  \n",
       "33                         {mental}  \n",
       "36                    {circulatory}  \n",
       "38                      {neoplasms}  \n",
       "50                    {circulatory}  \n",
       "58                         {mental}  \n",
       "61                {mental, nervous}  \n",
       "68                         {mental}  \n",
       "69                         {mental}  \n",
       "70            {respiratory, mental}  \n",
       "71                {mental, nervous}  \n",
       "73                {mental, nervous}  \n",
       "74                         {mental}  \n",
       "83                      {neoplasms}  \n",
       "85                    {circulatory}  \n",
       "89                    {circulatory}  \n",
       "90           {respiratory, nervous}  \n",
       "91           {circulatory, nervous}  \n",
       "..                              ...  \n",
       "386                       {nervous}  \n",
       "393                   {circulatory}  \n",
       "394        {circulatory, neoplasms}  \n",
       "395                     {neoplasms}  \n",
       "398                   {respiratory}  \n",
       "406                   {respiratory}  \n",
       "418               {mental, nervous}  \n",
       "421                     {neoplasms}  \n",
       "422        {respiratory, neoplasms}  \n",
       "423                     {neoplasms}  \n",
       "424                     {neoplasms}  \n",
       "425        {respiratory, neoplasms}  \n",
       "426                     {neoplasms}  \n",
       "428                   {respiratory}  \n",
       "434                        {mental}  \n",
       "436  {respiratory, mental, nervous}  \n",
       "439                   {respiratory}  \n",
       "440          {circulatory, nervous}  \n",
       "444            {neoplasms, nervous}  \n",
       "447          {circulatory, nervous}  \n",
       "460               {mental, nervous}  \n",
       "461        {circulatory, neoplasms}  \n",
       "469                   {circulatory}  \n",
       "470                        {mental}  \n",
       "471                   {circulatory}  \n",
       "475                        {mental}  \n",
       "483                   {circulatory}  \n",
       "488                     {neoplasms}  \n",
       "491                   {respiratory}  \n",
       "493                   {respiratory}  \n",
       "\n",
       "[156 rows x 4 columns]"
      ]
     },
     "execution_count": 92,
     "metadata": {},
     "output_type": "execute_result"
    }
   ],
   "source": [
    "mdf_subset.loc[(pd.isnull(mdf_subset.mesh_groups) == False),:]"
   ]
  },
  {
   "cell_type": "code",
   "execution_count": 28,
   "metadata": {
    "collapsed": false,
    "scrolled": false
   },
   "outputs": [],
   "source": [
    "mdf.to_csv('./data/mesh_groups.csv', index=False)"
   ]
  },
  {
   "cell_type": "code",
   "execution_count": 34,
   "metadata": {
    "collapsed": false,
    "scrolled": true
   },
   "outputs": [
    {
     "data": {
      "text/plain": [
       "1640238"
      ]
     },
     "execution_count": 34,
     "metadata": {},
     "output_type": "execute_result"
    }
   ],
   "source": [
    "len(mdf.loc[(pd.isnull(mdf.mesh_groups) == False),:])"
   ]
  },
  {
   "cell_type": "code",
   "execution_count": 93,
   "metadata": {
    "collapsed": false,
    "scrolled": false
   },
   "outputs": [
    {
     "data": {
      "text/plain": [
       "4984444"
      ]
     },
     "execution_count": 93,
     "metadata": {},
     "output_type": "execute_result"
    }
   ],
   "source": [
    "len(mdf)\n",
    "# pd.merge()"
   ]
  },
  {
   "cell_type": "code",
   "execution_count": 40,
   "metadata": {
    "collapsed": false,
    "scrolled": true
   },
   "outputs": [
    {
     "data": {
      "text/html": [
       "<div>\n",
       "<table border=\"1\" class=\"dataframe\">\n",
       "  <thead>\n",
       "    <tr style=\"text-align: right;\">\n",
       "      <th></th>\n",
       "      <th>PMID</th>\n",
       "      <th>mesh</th>\n",
       "      <th>cleantext</th>\n",
       "      <th>mesh_groups</th>\n",
       "    </tr>\n",
       "  </thead>\n",
       "  <tbody>\n",
       "    <tr>\n",
       "      <th>0</th>\n",
       "      <td>26151925</td>\n",
       "      <td>Adult|Amygdala|Case-Control Studies|Female|Humans|Male|Neuroimaging|Neurokinin-1 Receptor Antagonists|Phobic Disorders|Piperidines|Positron-Emission Tomography|Receptors, Neurokinin-1|Tetrazoles</td>\n",
       "      <td>[adult, amygdala, case-control studies, female, humans, male, neuroimaging, neurokinin-1 receptor antagonists, phobic disorders, piperidines, positron-emission tomography, receptors, neurokinin-1, tetrazoles]</td>\n",
       "      <td>{mental}</td>\n",
       "    </tr>\n",
       "    <tr>\n",
       "      <th>1</th>\n",
       "      <td>26151913</td>\n",
       "      <td>Animals|Cell Differentiation|Gene Expression Regulation|Male|Mice|Mice, Inbred mdx|Mice, Transgenic|MicroRNAs|Muscle, Skeletal|Muscular Dystrophy, Animal|PAX7 Transcription Factor|Physical Conditioning, Animal|Regeneration|Satellite Cells, Skeletal Muscle</td>\n",
       "      <td>[animals, cell differentiation, gene expression regulation, male, mice, mice, inbred mdx, mice, transgenic, micrornas, muscle, skeletal, muscular dystrophy, animal, pax7 transcription factor, physical conditioning, animal, regeneration, satellite cells, skeletal muscle]</td>\n",
       "      <td>None</td>\n",
       "    </tr>\n",
       "    <tr>\n",
       "      <th>2</th>\n",
       "      <td>26151911</td>\n",
       "      <td>Acoustic Stimulation|Animals|Brain|Conditioning (Psychology)|Conditioning, Classical|Cues|Dendritic Spines|Electric Stimulation|Extremities|Fear|Male|Mice|Neuronal Plasticity</td>\n",
       "      <td>[acoustic stimulation, animals, brain, conditioning (psychology), conditioning, classical, cues, dendritic spines, electric stimulation, extremities, fear, male, mice, neuronal plasticity]</td>\n",
       "      <td>None</td>\n",
       "    </tr>\n",
       "    <tr>\n",
       "      <th>3</th>\n",
       "      <td>26151906</td>\n",
       "      <td>Administration, Intranasal|Animals|Area Under Curve|Central Nervous System|Cerebellar Cortex|Chromatography, High Pressure Liquid|Glutamate Carboxypeptidase II|Glutarates|Half-Life|Injections, Intraperitoneal|Macaca fascicularis|Male|Olfactory Bulb|Organophosphorus Compounds|ROC Curve|Rats|Rats,...</td>\n",
       "      <td>[administration, intranasal, animals, area under curve, central nervous system, cerebellar cortex, chromatography, high pressure liquid, glutamate carboxypeptidase ii, glutarates, half-life, injections, intraperitoneal, macaca fascicularis, male, olfactory bulb, organophosphorus compounds, roc c...</td>\n",
       "      <td>None</td>\n",
       "    </tr>\n",
       "    <tr>\n",
       "      <th>4</th>\n",
       "      <td>26151904</td>\n",
       "      <td>Animals|Carrier Proteins|Centromere|Chromatin|Chromatin Assembly and Disassembly|DNA-Binding Proteins|Drosophila Proteins|Drosophila melanogaster|Histones|Mitosis</td>\n",
       "      <td>[animals, carrier proteins, centromere, chromatin, chromatin assembly and disassembly, dna-binding proteins, drosophila proteins, drosophila melanogaster, histones, mitosis]</td>\n",
       "      <td>None</td>\n",
       "    </tr>\n",
       "  </tbody>\n",
       "</table>\n",
       "</div>"
      ],
      "text/plain": [
       "       PMID  \\\n",
       "0  26151925   \n",
       "1  26151913   \n",
       "2  26151911   \n",
       "3  26151906   \n",
       "4  26151904   \n",
       "\n",
       "                                                                                                                                                                                                                                                                                                          mesh  \\\n",
       "0                                                                                                           Adult|Amygdala|Case-Control Studies|Female|Humans|Male|Neuroimaging|Neurokinin-1 Receptor Antagonists|Phobic Disorders|Piperidines|Positron-Emission Tomography|Receptors, Neurokinin-1|Tetrazoles   \n",
       "1                                              Animals|Cell Differentiation|Gene Expression Regulation|Male|Mice|Mice, Inbred mdx|Mice, Transgenic|MicroRNAs|Muscle, Skeletal|Muscular Dystrophy, Animal|PAX7 Transcription Factor|Physical Conditioning, Animal|Regeneration|Satellite Cells, Skeletal Muscle   \n",
       "2                                                                                                                               Acoustic Stimulation|Animals|Brain|Conditioning (Psychology)|Conditioning, Classical|Cues|Dendritic Spines|Electric Stimulation|Extremities|Fear|Male|Mice|Neuronal Plasticity   \n",
       "3  Administration, Intranasal|Animals|Area Under Curve|Central Nervous System|Cerebellar Cortex|Chromatography, High Pressure Liquid|Glutamate Carboxypeptidase II|Glutarates|Half-Life|Injections, Intraperitoneal|Macaca fascicularis|Male|Olfactory Bulb|Organophosphorus Compounds|ROC Curve|Rats|Rats,...   \n",
       "4                                                                                                                                           Animals|Carrier Proteins|Centromere|Chromatin|Chromatin Assembly and Disassembly|DNA-Binding Proteins|Drosophila Proteins|Drosophila melanogaster|Histones|Mitosis   \n",
       "\n",
       "                                                                                                                                                                                                                                                                                                     cleantext  \\\n",
       "0                                                                                             [adult, amygdala, case-control studies, female, humans, male, neuroimaging, neurokinin-1 receptor antagonists, phobic disorders, piperidines, positron-emission tomography, receptors, neurokinin-1, tetrazoles]   \n",
       "1                               [animals, cell differentiation, gene expression regulation, male, mice, mice, inbred mdx, mice, transgenic, micrornas, muscle, skeletal, muscular dystrophy, animal, pax7 transcription factor, physical conditioning, animal, regeneration, satellite cells, skeletal muscle]   \n",
       "2                                                                                                                 [acoustic stimulation, animals, brain, conditioning (psychology), conditioning, classical, cues, dendritic spines, electric stimulation, extremities, fear, male, mice, neuronal plasticity]   \n",
       "3  [administration, intranasal, animals, area under curve, central nervous system, cerebellar cortex, chromatography, high pressure liquid, glutamate carboxypeptidase ii, glutarates, half-life, injections, intraperitoneal, macaca fascicularis, male, olfactory bulb, organophosphorus compounds, roc c...   \n",
       "4                                                                                                                                [animals, carrier proteins, centromere, chromatin, chromatin assembly and disassembly, dna-binding proteins, drosophila proteins, drosophila melanogaster, histones, mitosis]   \n",
       "\n",
       "  mesh_groups  \n",
       "0    {mental}  \n",
       "1        None  \n",
       "2        None  \n",
       "3        None  \n",
       "4        None  "
      ]
     },
     "execution_count": 40,
     "metadata": {},
     "output_type": "execute_result"
    }
   ],
   "source": [
    "pd.set_option('max_colwidth',300)\n",
    "mdf.head()"
   ]
  },
  {
   "cell_type": "code",
   "execution_count": 63,
   "metadata": {
    "collapsed": false,
    "scrolled": true
   },
   "outputs": [],
   "source": [
    "# mdf_subset = mdf[:500]\n",
    "# mdf_subset.loc[(pd.isnull(mdf_subset.mesh_groups) == False),:]\n",
    "mdf_subset.is_copy = False\n",
    "mdf_subset.loc[:,['mesh_groups']] = None"
   ]
  },
  {
   "cell_type": "code",
   "execution_count": 64,
   "metadata": {
    "collapsed": false
   },
   "outputs": [
    {
     "data": {
      "text/html": [
       "<div>\n",
       "<table border=\"1\" class=\"dataframe\">\n",
       "  <thead>\n",
       "    <tr style=\"text-align: right;\">\n",
       "      <th></th>\n",
       "      <th>PMID</th>\n",
       "      <th>mesh</th>\n",
       "      <th>cleantext</th>\n",
       "      <th>mesh_groups</th>\n",
       "    </tr>\n",
       "  </thead>\n",
       "  <tbody>\n",
       "    <tr>\n",
       "      <th>0</th>\n",
       "      <td>26151925</td>\n",
       "      <td>Adult|Amygdala|Case-Control Studies|Female|Humans|Male|Neuroimaging|Neurokinin-1 Receptor Antagonists|Phobic Disorders|Piperidines|Positron-Emission Tomography|Receptors, Neurokinin-1|Tetrazoles</td>\n",
       "      <td>[adult, amygdala, case-control studies, female, humans, male, neuroimaging, neurokinin-1 receptor antagonists, phobic disorders, piperidines, positron-emission tomography, receptors, neurokinin-1, tetrazoles]</td>\n",
       "      <td>None</td>\n",
       "    </tr>\n",
       "    <tr>\n",
       "      <th>1</th>\n",
       "      <td>26151913</td>\n",
       "      <td>Animals|Cell Differentiation|Gene Expression Regulation|Male|Mice|Mice, Inbred mdx|Mice, Transgenic|MicroRNAs|Muscle, Skeletal|Muscular Dystrophy, Animal|PAX7 Transcription Factor|Physical Conditioning, Animal|Regeneration|Satellite Cells, Skeletal Muscle</td>\n",
       "      <td>[animals, cell differentiation, gene expression regulation, male, mice, mice, inbred mdx, mice, transgenic, micrornas, muscle, skeletal, muscular dystrophy, animal, pax7 transcription factor, physical conditioning, animal, regeneration, satellite cells, skeletal muscle]</td>\n",
       "      <td>None</td>\n",
       "    </tr>\n",
       "    <tr>\n",
       "      <th>2</th>\n",
       "      <td>26151911</td>\n",
       "      <td>Acoustic Stimulation|Animals|Brain|Conditioning (Psychology)|Conditioning, Classical|Cues|Dendritic Spines|Electric Stimulation|Extremities|Fear|Male|Mice|Neuronal Plasticity</td>\n",
       "      <td>[acoustic stimulation, animals, brain, conditioning (psychology), conditioning, classical, cues, dendritic spines, electric stimulation, extremities, fear, male, mice, neuronal plasticity]</td>\n",
       "      <td>None</td>\n",
       "    </tr>\n",
       "    <tr>\n",
       "      <th>3</th>\n",
       "      <td>26151906</td>\n",
       "      <td>Administration, Intranasal|Animals|Area Under Curve|Central Nervous System|Cerebellar Cortex|Chromatography, High Pressure Liquid|Glutamate Carboxypeptidase II|Glutarates|Half-Life|Injections, Intraperitoneal|Macaca fascicularis|Male|Olfactory Bulb|Organophosphorus Compounds|ROC Curve|Rats|Rats,...</td>\n",
       "      <td>[administration, intranasal, animals, area under curve, central nervous system, cerebellar cortex, chromatography, high pressure liquid, glutamate carboxypeptidase ii, glutarates, half-life, injections, intraperitoneal, macaca fascicularis, male, olfactory bulb, organophosphorus compounds, roc c...</td>\n",
       "      <td>None</td>\n",
       "    </tr>\n",
       "    <tr>\n",
       "      <th>4</th>\n",
       "      <td>26151904</td>\n",
       "      <td>Animals|Carrier Proteins|Centromere|Chromatin|Chromatin Assembly and Disassembly|DNA-Binding Proteins|Drosophila Proteins|Drosophila melanogaster|Histones|Mitosis</td>\n",
       "      <td>[animals, carrier proteins, centromere, chromatin, chromatin assembly and disassembly, dna-binding proteins, drosophila proteins, drosophila melanogaster, histones, mitosis]</td>\n",
       "      <td>None</td>\n",
       "    </tr>\n",
       "  </tbody>\n",
       "</table>\n",
       "</div>"
      ],
      "text/plain": [
       "       PMID  \\\n",
       "0  26151925   \n",
       "1  26151913   \n",
       "2  26151911   \n",
       "3  26151906   \n",
       "4  26151904   \n",
       "\n",
       "                                                                                                                                                                                                                                                                                                          mesh  \\\n",
       "0                                                                                                           Adult|Amygdala|Case-Control Studies|Female|Humans|Male|Neuroimaging|Neurokinin-1 Receptor Antagonists|Phobic Disorders|Piperidines|Positron-Emission Tomography|Receptors, Neurokinin-1|Tetrazoles   \n",
       "1                                              Animals|Cell Differentiation|Gene Expression Regulation|Male|Mice|Mice, Inbred mdx|Mice, Transgenic|MicroRNAs|Muscle, Skeletal|Muscular Dystrophy, Animal|PAX7 Transcription Factor|Physical Conditioning, Animal|Regeneration|Satellite Cells, Skeletal Muscle   \n",
       "2                                                                                                                               Acoustic Stimulation|Animals|Brain|Conditioning (Psychology)|Conditioning, Classical|Cues|Dendritic Spines|Electric Stimulation|Extremities|Fear|Male|Mice|Neuronal Plasticity   \n",
       "3  Administration, Intranasal|Animals|Area Under Curve|Central Nervous System|Cerebellar Cortex|Chromatography, High Pressure Liquid|Glutamate Carboxypeptidase II|Glutarates|Half-Life|Injections, Intraperitoneal|Macaca fascicularis|Male|Olfactory Bulb|Organophosphorus Compounds|ROC Curve|Rats|Rats,...   \n",
       "4                                                                                                                                           Animals|Carrier Proteins|Centromere|Chromatin|Chromatin Assembly and Disassembly|DNA-Binding Proteins|Drosophila Proteins|Drosophila melanogaster|Histones|Mitosis   \n",
       "\n",
       "                                                                                                                                                                                                                                                                                                     cleantext  \\\n",
       "0                                                                                             [adult, amygdala, case-control studies, female, humans, male, neuroimaging, neurokinin-1 receptor antagonists, phobic disorders, piperidines, positron-emission tomography, receptors, neurokinin-1, tetrazoles]   \n",
       "1                               [animals, cell differentiation, gene expression regulation, male, mice, mice, inbred mdx, mice, transgenic, micrornas, muscle, skeletal, muscular dystrophy, animal, pax7 transcription factor, physical conditioning, animal, regeneration, satellite cells, skeletal muscle]   \n",
       "2                                                                                                                 [acoustic stimulation, animals, brain, conditioning (psychology), conditioning, classical, cues, dendritic spines, electric stimulation, extremities, fear, male, mice, neuronal plasticity]   \n",
       "3  [administration, intranasal, animals, area under curve, central nervous system, cerebellar cortex, chromatography, high pressure liquid, glutamate carboxypeptidase ii, glutarates, half-life, injections, intraperitoneal, macaca fascicularis, male, olfactory bulb, organophosphorus compounds, roc c...   \n",
       "4                                                                                                                                [animals, carrier proteins, centromere, chromatin, chromatin assembly and disassembly, dna-binding proteins, drosophila proteins, drosophila melanogaster, histones, mitosis]   \n",
       "\n",
       "  mesh_groups  \n",
       "0        None  \n",
       "1        None  \n",
       "2        None  \n",
       "3        None  \n",
       "4        None  "
      ]
     },
     "execution_count": 64,
     "metadata": {},
     "output_type": "execute_result"
    }
   ],
   "source": [
    "mdf_subset.head()"
   ]
  },
  {
   "cell_type": "code",
   "execution_count": null,
   "metadata": {
    "collapsed": true,
    "scrolled": true
   },
   "outputs": [],
   "source": [
    "### Test with threading -- didn't save significant time \n",
    "\n",
    "%%time\n",
    "\n",
    "from multiprocessing.dummy import Pool as ThreadPool \n",
    "\n",
    "# Make the Pool of workers\n",
    "pool = ThreadPool(3) \n",
    "\n",
    "start_time = time.time()\n",
    "for idx, row in mdf_subset.iterrows():\n",
    "    # bottleneck\n",
    "    group_list = pool.map(check_group, [term for term in row['cleantext']])\n",
    "    for group_set in group_list:\n",
    "        if len(group_set) > 0:\n",
    "            if pd.isnull(row['mesh_groups']) == True:\n",
    "                row['mesh_groups'] = group_set\n",
    "            else:\n",
    "                row['mesh_groups'] = row['mesh_groups'].union(group_set)\n",
    "\n",
    "pool.close() \n",
    "pool.join() "
   ]
  },
  {
   "cell_type": "markdown",
   "metadata": {},
   "source": [
    "# Questions\n",
    "- F01 Behavioral tree? map mesh to mental?\n",
    "    - https://www.nlm.nih.gov/mesh/2015/mesh_trees/F01.html\n",
    "- mesh_subset with fuzzy matching took 55 seconds for 500 rows\n",
    "    - 162 rows × 4 columns\n",
    "- without fuzzy matching took 90 ms for 500 rows\n",
    "    - 156 rows × 4 columns"
   ]
  },
  {
   "cell_type": "code",
   "execution_count": 60,
   "metadata": {
    "collapsed": false,
    "scrolled": false
   },
   "outputs": [
    {
     "data": {
      "text/plain": [
       "(4984444, 4)"
      ]
     },
     "execution_count": 60,
     "metadata": {},
     "output_type": "execute_result"
    }
   ],
   "source": [
    "mdf.shape"
   ]
  },
  {
   "cell_type": "code",
   "execution_count": 61,
   "metadata": {
    "collapsed": false
   },
   "outputs": [
    {
     "data": {
      "text/plain": [
       "(500, 4)"
      ]
     },
     "execution_count": 61,
     "metadata": {},
     "output_type": "execute_result"
    }
   ],
   "source": [
    "mdf_subset.shape"
   ]
  },
  {
   "cell_type": "code",
   "execution_count": 83,
   "metadata": {
    "collapsed": false
   },
   "outputs": [
    {
     "data": {
      "text/plain": [
       "(23354735, 2)"
      ]
     },
     "execution_count": 83,
     "metadata": {},
     "output_type": "execute_result"
    }
   ],
   "source": [
    "mesh.shape"
   ]
  },
  {
   "cell_type": "code",
   "execution_count": 84,
   "metadata": {
    "collapsed": false,
    "scrolled": true
   },
   "outputs": [
    {
     "name": "stdout",
     "output_type": "stream",
     "text": [
      "0.11\n",
      "0.00017999999999999998\n"
     ]
    }
   ],
   "source": [
    "secs_per_row_fuzz = 55/500\n",
    "print(secs_per_row_fuzz)\n",
    "\n",
    "secs_per_row_nofuzz = .09/500\n",
    "print(secs_per_row_nofuzz)"
   ]
  },
  {
   "cell_type": "markdown",
   "metadata": {},
   "source": [
    "This would take 6.3 days with fuzzy matching"
   ]
  },
  {
   "cell_type": "code",
   "execution_count": 91,
   "metadata": {
    "collapsed": false,
    "scrolled": true
   },
   "outputs": [
    {
     "name": "stdout",
     "output_type": "stream",
     "text": [
      "USA mapaffil mesh; with fuzzy, days= 6.345935648148148\n",
      "USA mapaffil mesh; no fuzzy, hours= 0.24922219999999998\n",
      "all mesh; fuzzy, days= 29.734037615740743\n",
      "all mesh; no fuzzy, hours= 1.1677367499999998\n"
     ]
    }
   ],
   "source": [
    "print(\"USA mapaffil mesh; with fuzzy, days=\",mdf.shape[0] * secs_per_row_fuzz/60/60/24)\n",
    "print(\"USA mapaffil mesh; no fuzzy, hours=\", mdf.shape[0] * secs_per_row_nofuzz/60/60)\n",
    "print(\"all mesh; fuzzy, days=\",mesh.shape[0] * secs_per_row_fuzz/60/60/24)\n",
    "print(\"all mesh; no fuzzy, hours=\",mesh.shape[0] * secs_per_row_nofuzz/60/60)"
   ]
  },
  {
   "cell_type": "code",
   "execution_count": null,
   "metadata": {
    "collapsed": true,
    "scrolled": true
   },
   "outputs": [],
   "source": []
  }
 ],
 "metadata": {
  "anaconda-cloud": {},
  "kernelspec": {
   "display_name": "Python [conda root]",
   "language": "python",
   "name": "conda-root-py"
  },
  "language_info": {
   "codemirror_mode": {
    "name": "ipython",
    "version": 3
   },
   "file_extension": ".py",
   "mimetype": "text/x-python",
   "name": "python",
   "nbconvert_exporter": "python",
   "pygments_lexer": "ipython3",
   "version": "3.5.2"
  }
 },
 "nbformat": 4,
 "nbformat_minor": 1
}
